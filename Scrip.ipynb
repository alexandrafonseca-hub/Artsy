{
 "cells": [
  {
   "cell_type": "code",
   "execution_count": 337,
   "metadata": {
    "ExecuteTime": {
     "end_time": "2020-09-07T08:30:14.159346Z",
     "start_time": "2020-09-07T08:30:14.152455Z"
    }
   },
   "outputs": [],
   "source": [
    "import pandas as pd\n",
    "import numpy as np\n",
    "import seaborn as sns\n",
    "import matplotlib.pyplot as plt\n",
    "import sqlite3\n",
    "import plotly\n",
    "import plotly.express as px\n",
    "import plotly.graph_objects as go"
   ]
  },
  {
   "cell_type": "markdown",
   "metadata": {
    "heading_collapsed": true
   },
   "source": [
    "### Import Data"
   ]
  },
  {
   "cell_type": "code",
   "execution_count": 92,
   "metadata": {
    "ExecuteTime": {
     "end_time": "2020-09-06T12:56:08.943819Z",
     "start_time": "2020-09-06T12:56:08.935027Z"
    },
    "hidden": true
   },
   "outputs": [],
   "source": [
    "#Connect to a database\n",
    "con = sqlite3.connect(\"my_db.db\")"
   ]
  },
  {
   "cell_type": "markdown",
   "metadata": {
    "hidden": true
   },
   "source": [
    "- Pageviews"
   ]
  },
  {
   "cell_type": "code",
   "execution_count": 93,
   "metadata": {
    "ExecuteTime": {
     "end_time": "2020-09-06T12:56:11.424732Z",
     "start_time": "2020-09-06T12:56:11.151942Z"
    },
    "hidden": true
   },
   "outputs": [
    {
     "data": {
      "text/html": [
       "<div>\n",
       "<style scoped>\n",
       "    .dataframe tbody tr th:only-of-type {\n",
       "        vertical-align: middle;\n",
       "    }\n",
       "\n",
       "    .dataframe tbody tr th {\n",
       "        vertical-align: top;\n",
       "    }\n",
       "\n",
       "    .dataframe thead th {\n",
       "        text-align: right;\n",
       "    }\n",
       "</style>\n",
       "<table border=\"1\" class=\"dataframe\">\n",
       "  <thead>\n",
       "    <tr style=\"text-align: right;\">\n",
       "      <th></th>\n",
       "      <th>anonymous_id</th>\n",
       "      <th>logged_in</th>\n",
       "      <th>received_at</th>\n",
       "      <th>path</th>\n",
       "      <th>referrer</th>\n",
       "    </tr>\n",
       "  </thead>\n",
       "  <tbody>\n",
       "    <tr>\n",
       "      <th>0</th>\n",
       "      <td>ad31b961-d67f-497c-9def-9193d518863a</td>\n",
       "      <td>False</td>\n",
       "      <td>2017-03-12 18:23:28.241</td>\n",
       "      <td>/artist/anish-kapoor</td>\n",
       "      <td>http://m.facebook.com</td>\n",
       "    </tr>\n",
       "    <tr>\n",
       "      <th>1</th>\n",
       "      <td>dd14cc5c-f31a-4591-974d-1233346b1999</td>\n",
       "      <td>False</td>\n",
       "      <td>2017-03-20 20:36:32.177</td>\n",
       "      <td>/artwork/vernon-fisher-happy-family</td>\n",
       "      <td>NaN</td>\n",
       "    </tr>\n",
       "    <tr>\n",
       "      <th>2</th>\n",
       "      <td>9b459a76-aaa3-44cd-9f0e-af7fb9829b2c</td>\n",
       "      <td>False</td>\n",
       "      <td>2017-03-14 05:19:47.852</td>\n",
       "      <td>/article/francesca-gavin-10-new-artists-to-wat...</td>\n",
       "      <td>https://www.google.ge/</td>\n",
       "    </tr>\n",
       "    <tr>\n",
       "      <th>3</th>\n",
       "      <td>cb745df7-c90d-4339-9519-960081515b8c</td>\n",
       "      <td>False</td>\n",
       "      <td>2017-03-14 02:50:29.697</td>\n",
       "      <td>/article/artsy-editorial-8-female-surrealists-...</td>\n",
       "      <td>https://l.facebook.com/l.php?u=https%3A%2F%2Fw...</td>\n",
       "    </tr>\n",
       "    <tr>\n",
       "      <th>4</th>\n",
       "      <td>8b18968d-4e51-4e00-b60c-d80b1ad6a55c</td>\n",
       "      <td>False</td>\n",
       "      <td>2017-03-15 09:07:07.436</td>\n",
       "      <td>/article/artsy-editorial-why-these-7-artists-q...</td>\n",
       "      <td>https://www.facebook.com/</td>\n",
       "    </tr>\n",
       "    <tr>\n",
       "      <th>...</th>\n",
       "      <td>...</td>\n",
       "      <td>...</td>\n",
       "      <td>...</td>\n",
       "      <td>...</td>\n",
       "      <td>...</td>\n",
       "    </tr>\n",
       "    <tr>\n",
       "      <th>99995</th>\n",
       "      <td>d3916f78-16ec-4614-af92-8a29640566ce</td>\n",
       "      <td>True</td>\n",
       "      <td>2017-03-12 15:50:04.295</td>\n",
       "      <td>/</td>\n",
       "      <td>NaN</td>\n",
       "    </tr>\n",
       "    <tr>\n",
       "      <th>99996</th>\n",
       "      <td>fc6a5da2-0cc0-42f2-9040-74498c50f569</td>\n",
       "      <td>False</td>\n",
       "      <td>2017-03-23 11:11:23.208</td>\n",
       "      <td>/artists/artists-starting-with-s</td>\n",
       "      <td>https://www.artsy.net/artists/artists-starting...</td>\n",
       "    </tr>\n",
       "    <tr>\n",
       "      <th>99997</th>\n",
       "      <td>66948dd7-836b-4770-9ca4-719096c621ee</td>\n",
       "      <td>True</td>\n",
       "      <td>2017-03-13 11:27:32.482</td>\n",
       "      <td>/artwork/jean-baptiste-bernadet-untitled-vetiv...</td>\n",
       "      <td>https://www.artsy.net/artist/jean-baptiste-ber...</td>\n",
       "    </tr>\n",
       "    <tr>\n",
       "      <th>99998</th>\n",
       "      <td>cca44d19-d759-493a-a59e-0ef13ac4f129</td>\n",
       "      <td>False</td>\n",
       "      <td>2017-03-21 10:33:02.154</td>\n",
       "      <td>/jobs</td>\n",
       "      <td>https://www.artsy.net/</td>\n",
       "    </tr>\n",
       "    <tr>\n",
       "      <th>99999</th>\n",
       "      <td>5ab821d1-712a-4aec-a453-f20288648dc7</td>\n",
       "      <td>False</td>\n",
       "      <td>2017-03-15 15:11:50.990</td>\n",
       "      <td>/artwork/enrico-donati-le-crepuscole-et-la-cite</td>\n",
       "      <td>https://www.artsy.net/artist/enrico-donati</td>\n",
       "    </tr>\n",
       "  </tbody>\n",
       "</table>\n",
       "<p>100000 rows × 5 columns</p>\n",
       "</div>"
      ],
      "text/plain": [
       "                               anonymous_id  logged_in  \\\n",
       "0      ad31b961-d67f-497c-9def-9193d518863a      False   \n",
       "1      dd14cc5c-f31a-4591-974d-1233346b1999      False   \n",
       "2      9b459a76-aaa3-44cd-9f0e-af7fb9829b2c      False   \n",
       "3      cb745df7-c90d-4339-9519-960081515b8c      False   \n",
       "4      8b18968d-4e51-4e00-b60c-d80b1ad6a55c      False   \n",
       "...                                     ...        ...   \n",
       "99995  d3916f78-16ec-4614-af92-8a29640566ce       True   \n",
       "99996  fc6a5da2-0cc0-42f2-9040-74498c50f569      False   \n",
       "99997  66948dd7-836b-4770-9ca4-719096c621ee       True   \n",
       "99998  cca44d19-d759-493a-a59e-0ef13ac4f129      False   \n",
       "99999  5ab821d1-712a-4aec-a453-f20288648dc7      False   \n",
       "\n",
       "                   received_at  \\\n",
       "0      2017-03-12 18:23:28.241   \n",
       "1      2017-03-20 20:36:32.177   \n",
       "2      2017-03-14 05:19:47.852   \n",
       "3      2017-03-14 02:50:29.697   \n",
       "4      2017-03-15 09:07:07.436   \n",
       "...                        ...   \n",
       "99995  2017-03-12 15:50:04.295   \n",
       "99996  2017-03-23 11:11:23.208   \n",
       "99997  2017-03-13 11:27:32.482   \n",
       "99998  2017-03-21 10:33:02.154   \n",
       "99999  2017-03-15 15:11:50.990   \n",
       "\n",
       "                                                    path  \\\n",
       "0                                   /artist/anish-kapoor   \n",
       "1                    /artwork/vernon-fisher-happy-family   \n",
       "2      /article/francesca-gavin-10-new-artists-to-wat...   \n",
       "3      /article/artsy-editorial-8-female-surrealists-...   \n",
       "4      /article/artsy-editorial-why-these-7-artists-q...   \n",
       "...                                                  ...   \n",
       "99995                                                  /   \n",
       "99996                   /artists/artists-starting-with-s   \n",
       "99997  /artwork/jean-baptiste-bernadet-untitled-vetiv...   \n",
       "99998                                              /jobs   \n",
       "99999    /artwork/enrico-donati-le-crepuscole-et-la-cite   \n",
       "\n",
       "                                                referrer  \n",
       "0                                  http://m.facebook.com  \n",
       "1                                                    NaN  \n",
       "2                                 https://www.google.ge/  \n",
       "3      https://l.facebook.com/l.php?u=https%3A%2F%2Fw...  \n",
       "4                              https://www.facebook.com/  \n",
       "...                                                  ...  \n",
       "99995                                                NaN  \n",
       "99996  https://www.artsy.net/artists/artists-starting...  \n",
       "99997  https://www.artsy.net/artist/jean-baptiste-ber...  \n",
       "99998                             https://www.artsy.net/  \n",
       "99999         https://www.artsy.net/artist/enrico-donati  \n",
       "\n",
       "[100000 rows x 5 columns]"
      ]
     },
     "execution_count": 93,
     "metadata": {},
     "output_type": "execute_result"
    }
   ],
   "source": [
    "## Read csv file\n",
    "v=pd.read_csv(\"data_test_pageviews.csv\")\n",
    "v"
   ]
  },
  {
   "cell_type": "markdown",
   "metadata": {
    "ExecuteTime": {
     "end_time": "2020-09-06T11:47:00.012722Z",
     "start_time": "2020-09-06T11:46:58.791460Z"
    },
    "hidden": true
   },
   "source": [
    "- Users"
   ]
  },
  {
   "cell_type": "code",
   "execution_count": 339,
   "metadata": {
    "ExecuteTime": {
     "end_time": "2020-09-07T08:31:14.240878Z",
     "start_time": "2020-09-07T08:31:14.218433Z"
    },
    "hidden": true
   },
   "outputs": [
    {
     "data": {
      "text/html": [
       "<div>\n",
       "<style scoped>\n",
       "    .dataframe tbody tr th:only-of-type {\n",
       "        vertical-align: middle;\n",
       "    }\n",
       "\n",
       "    .dataframe tbody tr th {\n",
       "        vertical-align: top;\n",
       "    }\n",
       "\n",
       "    .dataframe thead th {\n",
       "        text-align: right;\n",
       "    }\n",
       "</style>\n",
       "<table border=\"1\" class=\"dataframe\">\n",
       "  <thead>\n",
       "    <tr style=\"text-align: right;\">\n",
       "      <th></th>\n",
       "      <th>visitor_id</th>\n",
       "      <th>has_inquired</th>\n",
       "      <th>has_an_account</th>\n",
       "      <th>article_pageviews</th>\n",
       "      <th>artist_pageviews</th>\n",
       "      <th>artwork_pageviews</th>\n",
       "    </tr>\n",
       "  </thead>\n",
       "  <tbody>\n",
       "    <tr>\n",
       "      <th>0</th>\n",
       "      <td>0</td>\n",
       "      <td>False</td>\n",
       "      <td>False</td>\n",
       "      <td>0.0</td>\n",
       "      <td>0.0</td>\n",
       "      <td>1.0</td>\n",
       "    </tr>\n",
       "    <tr>\n",
       "      <th>1</th>\n",
       "      <td>1</td>\n",
       "      <td>True</td>\n",
       "      <td>False</td>\n",
       "      <td>0.0</td>\n",
       "      <td>0.0</td>\n",
       "      <td>1.0</td>\n",
       "    </tr>\n",
       "    <tr>\n",
       "      <th>2</th>\n",
       "      <td>2</td>\n",
       "      <td>True</td>\n",
       "      <td>True</td>\n",
       "      <td>0.0</td>\n",
       "      <td>0.0</td>\n",
       "      <td>1.0</td>\n",
       "    </tr>\n",
       "    <tr>\n",
       "      <th>3</th>\n",
       "      <td>3</td>\n",
       "      <td>False</td>\n",
       "      <td>False</td>\n",
       "      <td>0.0</td>\n",
       "      <td>1.0</td>\n",
       "      <td>0.0</td>\n",
       "    </tr>\n",
       "    <tr>\n",
       "      <th>4</th>\n",
       "      <td>4</td>\n",
       "      <td>False</td>\n",
       "      <td>False</td>\n",
       "      <td>0.0</td>\n",
       "      <td>0.0</td>\n",
       "      <td>1.0</td>\n",
       "    </tr>\n",
       "    <tr>\n",
       "      <th>...</th>\n",
       "      <td>...</td>\n",
       "      <td>...</td>\n",
       "      <td>...</td>\n",
       "      <td>...</td>\n",
       "      <td>...</td>\n",
       "      <td>...</td>\n",
       "    </tr>\n",
       "    <tr>\n",
       "      <th>2606</th>\n",
       "      <td>2606</td>\n",
       "      <td>False</td>\n",
       "      <td>False</td>\n",
       "      <td>0.0</td>\n",
       "      <td>1.0</td>\n",
       "      <td>0.0</td>\n",
       "    </tr>\n",
       "    <tr>\n",
       "      <th>2607</th>\n",
       "      <td>2607</td>\n",
       "      <td>True</td>\n",
       "      <td>False</td>\n",
       "      <td>0.0</td>\n",
       "      <td>1.0</td>\n",
       "      <td>0.0</td>\n",
       "    </tr>\n",
       "    <tr>\n",
       "      <th>2608</th>\n",
       "      <td>2608</td>\n",
       "      <td>False</td>\n",
       "      <td>False</td>\n",
       "      <td>0.0</td>\n",
       "      <td>1.0</td>\n",
       "      <td>0.0</td>\n",
       "    </tr>\n",
       "    <tr>\n",
       "      <th>2609</th>\n",
       "      <td>2609</td>\n",
       "      <td>False</td>\n",
       "      <td>True</td>\n",
       "      <td>0.0</td>\n",
       "      <td>0.0</td>\n",
       "      <td>0.0</td>\n",
       "    </tr>\n",
       "    <tr>\n",
       "      <th>2610</th>\n",
       "      <td>2610</td>\n",
       "      <td>True</td>\n",
       "      <td>True</td>\n",
       "      <td>0.0</td>\n",
       "      <td>0.0</td>\n",
       "      <td>1.0</td>\n",
       "    </tr>\n",
       "  </tbody>\n",
       "</table>\n",
       "<p>2611 rows × 6 columns</p>\n",
       "</div>"
      ],
      "text/plain": [
       "      visitor_id  has_inquired  has_an_account  article_pageviews  \\\n",
       "0              0         False           False                0.0   \n",
       "1              1          True           False                0.0   \n",
       "2              2          True            True                0.0   \n",
       "3              3         False           False                0.0   \n",
       "4              4         False           False                0.0   \n",
       "...          ...           ...             ...                ...   \n",
       "2606        2606         False           False                0.0   \n",
       "2607        2607          True           False                0.0   \n",
       "2608        2608         False           False                0.0   \n",
       "2609        2609         False            True                0.0   \n",
       "2610        2610          True            True                0.0   \n",
       "\n",
       "      artist_pageviews  artwork_pageviews  \n",
       "0                  0.0                1.0  \n",
       "1                  0.0                1.0  \n",
       "2                  0.0                1.0  \n",
       "3                  1.0                0.0  \n",
       "4                  0.0                1.0  \n",
       "...                ...                ...  \n",
       "2606               1.0                0.0  \n",
       "2607               1.0                0.0  \n",
       "2608               1.0                0.0  \n",
       "2609               0.0                0.0  \n",
       "2610               0.0                1.0  \n",
       "\n",
       "[2611 rows x 6 columns]"
      ]
     },
     "execution_count": 339,
     "metadata": {},
     "output_type": "execute_result"
    }
   ],
   "source": [
    "## Read csv file\n",
    "u=pd.read_csv(\"dataset_test_user.csv\")\n",
    "u"
   ]
  },
  {
   "cell_type": "markdown",
   "metadata": {
    "heading_collapsed": true
   },
   "source": [
    "### Data Exploration and Treatment"
   ]
  },
  {
   "cell_type": "markdown",
   "metadata": {
    "hidden": true
   },
   "source": [
    "PAGEVIEWS"
   ]
  },
  {
   "cell_type": "code",
   "execution_count": 95,
   "metadata": {
    "ExecuteTime": {
     "end_time": "2020-09-06T12:56:19.639340Z",
     "start_time": "2020-09-06T12:56:19.633706Z"
    },
    "hidden": true
   },
   "outputs": [
    {
     "data": {
      "text/plain": [
       "anonymous_id    object\n",
       "logged_in         bool\n",
       "received_at     object\n",
       "path            object\n",
       "referrer        object\n",
       "dtype: object"
      ]
     },
     "execution_count": 95,
     "metadata": {},
     "output_type": "execute_result"
    }
   ],
   "source": [
    "v.dtypes"
   ]
  },
  {
   "cell_type": "markdown",
   "metadata": {
    "ExecuteTime": {
     "end_time": "2020-09-06T11:47:04.986105Z",
     "start_time": "2020-09-06T11:47:04.578249Z"
    },
    "hidden": true
   },
   "source": [
    "- Date Type"
   ]
  },
  {
   "cell_type": "code",
   "execution_count": 96,
   "metadata": {
    "ExecuteTime": {
     "end_time": "2020-09-06T12:56:23.188281Z",
     "start_time": "2020-09-06T12:56:22.685095Z"
    },
    "hidden": true
   },
   "outputs": [
    {
     "data": {
      "text/plain": [
       "array([datetime.date(2017, 3, 12), datetime.date(2017, 3, 20),\n",
       "       datetime.date(2017, 3, 14), datetime.date(2017, 3, 15),\n",
       "       datetime.date(2017, 3, 25), datetime.date(2017, 3, 23),\n",
       "       datetime.date(2017, 3, 24), datetime.date(2017, 3, 18),\n",
       "       datetime.date(2017, 3, 16), datetime.date(2017, 3, 13),\n",
       "       datetime.date(2017, 3, 21), datetime.date(2017, 3, 19),\n",
       "       datetime.date(2017, 3, 17), datetime.date(2017, 3, 22)],\n",
       "      dtype=object)"
      ]
     },
     "execution_count": 96,
     "metadata": {},
     "output_type": "execute_result"
    }
   ],
   "source": [
    "## Covert the received_at to datetime\n",
    "v['received_at'] = pd.to_datetime(v['received_at'])\n",
    "\n",
    "##Check Dates Provided\n",
    "v['received_at'].map(lambda t: t.date()).unique()"
   ]
  },
  {
   "cell_type": "markdown",
   "metadata": {
    "hidden": true
   },
   "source": [
    "- Null Referrers"
   ]
  },
  {
   "cell_type": "code",
   "execution_count": 97,
   "metadata": {
    "ExecuteTime": {
     "end_time": "2020-09-06T12:56:25.107173Z",
     "start_time": "2020-09-06T12:56:25.092947Z"
    },
    "hidden": true
   },
   "outputs": [
    {
     "data": {
      "text/plain": [
       "0.19965"
      ]
     },
     "execution_count": 97,
     "metadata": {},
     "output_type": "execute_result"
    }
   ],
   "source": [
    "## Check referrers that are Null\n",
    "len(v[v.referrer.isnull()])/len(v)"
   ]
  },
  {
   "cell_type": "code",
   "execution_count": 98,
   "metadata": {
    "ExecuteTime": {
     "end_time": "2020-09-06T12:56:26.629516Z",
     "start_time": "2020-09-06T12:56:26.607635Z"
    },
    "hidden": true
   },
   "outputs": [
    {
     "data": {
      "text/html": [
       "<div>\n",
       "<style scoped>\n",
       "    .dataframe tbody tr th:only-of-type {\n",
       "        vertical-align: middle;\n",
       "    }\n",
       "\n",
       "    .dataframe tbody tr th {\n",
       "        vertical-align: top;\n",
       "    }\n",
       "\n",
       "    .dataframe thead th {\n",
       "        text-align: right;\n",
       "    }\n",
       "</style>\n",
       "<table border=\"1\" class=\"dataframe\">\n",
       "  <thead>\n",
       "    <tr style=\"text-align: right;\">\n",
       "      <th></th>\n",
       "      <th>anonymous_id</th>\n",
       "      <th>logged_in</th>\n",
       "      <th>received_at</th>\n",
       "      <th>path</th>\n",
       "      <th>referrer</th>\n",
       "    </tr>\n",
       "  </thead>\n",
       "  <tbody>\n",
       "    <tr>\n",
       "      <th>0</th>\n",
       "      <td>ad31b961-d67f-497c-9def-9193d518863a</td>\n",
       "      <td>False</td>\n",
       "      <td>2017-03-12 18:23:28.241</td>\n",
       "      <td>/artist/anish-kapoor</td>\n",
       "      <td>http://m.facebook.com</td>\n",
       "    </tr>\n",
       "    <tr>\n",
       "      <th>1</th>\n",
       "      <td>dd14cc5c-f31a-4591-974d-1233346b1999</td>\n",
       "      <td>False</td>\n",
       "      <td>2017-03-20 20:36:32.177</td>\n",
       "      <td>/artwork/vernon-fisher-happy-family</td>\n",
       "      <td>others</td>\n",
       "    </tr>\n",
       "    <tr>\n",
       "      <th>2</th>\n",
       "      <td>9b459a76-aaa3-44cd-9f0e-af7fb9829b2c</td>\n",
       "      <td>False</td>\n",
       "      <td>2017-03-14 05:19:47.852</td>\n",
       "      <td>/article/francesca-gavin-10-new-artists-to-wat...</td>\n",
       "      <td>https://www.google.ge/</td>\n",
       "    </tr>\n",
       "    <tr>\n",
       "      <th>3</th>\n",
       "      <td>cb745df7-c90d-4339-9519-960081515b8c</td>\n",
       "      <td>False</td>\n",
       "      <td>2017-03-14 02:50:29.697</td>\n",
       "      <td>/article/artsy-editorial-8-female-surrealists-...</td>\n",
       "      <td>https://l.facebook.com/l.php?u=https%3A%2F%2Fw...</td>\n",
       "    </tr>\n",
       "    <tr>\n",
       "      <th>4</th>\n",
       "      <td>8b18968d-4e51-4e00-b60c-d80b1ad6a55c</td>\n",
       "      <td>False</td>\n",
       "      <td>2017-03-15 09:07:07.436</td>\n",
       "      <td>/article/artsy-editorial-why-these-7-artists-q...</td>\n",
       "      <td>https://www.facebook.com/</td>\n",
       "    </tr>\n",
       "    <tr>\n",
       "      <th>...</th>\n",
       "      <td>...</td>\n",
       "      <td>...</td>\n",
       "      <td>...</td>\n",
       "      <td>...</td>\n",
       "      <td>...</td>\n",
       "    </tr>\n",
       "    <tr>\n",
       "      <th>99995</th>\n",
       "      <td>d3916f78-16ec-4614-af92-8a29640566ce</td>\n",
       "      <td>True</td>\n",
       "      <td>2017-03-12 15:50:04.295</td>\n",
       "      <td>/</td>\n",
       "      <td>others</td>\n",
       "    </tr>\n",
       "    <tr>\n",
       "      <th>99996</th>\n",
       "      <td>fc6a5da2-0cc0-42f2-9040-74498c50f569</td>\n",
       "      <td>False</td>\n",
       "      <td>2017-03-23 11:11:23.208</td>\n",
       "      <td>/artists/artists-starting-with-s</td>\n",
       "      <td>https://www.artsy.net/artists/artists-starting...</td>\n",
       "    </tr>\n",
       "    <tr>\n",
       "      <th>99997</th>\n",
       "      <td>66948dd7-836b-4770-9ca4-719096c621ee</td>\n",
       "      <td>True</td>\n",
       "      <td>2017-03-13 11:27:32.482</td>\n",
       "      <td>/artwork/jean-baptiste-bernadet-untitled-vetiv...</td>\n",
       "      <td>https://www.artsy.net/artist/jean-baptiste-ber...</td>\n",
       "    </tr>\n",
       "    <tr>\n",
       "      <th>99998</th>\n",
       "      <td>cca44d19-d759-493a-a59e-0ef13ac4f129</td>\n",
       "      <td>False</td>\n",
       "      <td>2017-03-21 10:33:02.154</td>\n",
       "      <td>/jobs</td>\n",
       "      <td>https://www.artsy.net/</td>\n",
       "    </tr>\n",
       "    <tr>\n",
       "      <th>99999</th>\n",
       "      <td>5ab821d1-712a-4aec-a453-f20288648dc7</td>\n",
       "      <td>False</td>\n",
       "      <td>2017-03-15 15:11:50.990</td>\n",
       "      <td>/artwork/enrico-donati-le-crepuscole-et-la-cite</td>\n",
       "      <td>https://www.artsy.net/artist/enrico-donati</td>\n",
       "    </tr>\n",
       "  </tbody>\n",
       "</table>\n",
       "<p>100000 rows × 5 columns</p>\n",
       "</div>"
      ],
      "text/plain": [
       "                               anonymous_id  logged_in  \\\n",
       "0      ad31b961-d67f-497c-9def-9193d518863a      False   \n",
       "1      dd14cc5c-f31a-4591-974d-1233346b1999      False   \n",
       "2      9b459a76-aaa3-44cd-9f0e-af7fb9829b2c      False   \n",
       "3      cb745df7-c90d-4339-9519-960081515b8c      False   \n",
       "4      8b18968d-4e51-4e00-b60c-d80b1ad6a55c      False   \n",
       "...                                     ...        ...   \n",
       "99995  d3916f78-16ec-4614-af92-8a29640566ce       True   \n",
       "99996  fc6a5da2-0cc0-42f2-9040-74498c50f569      False   \n",
       "99997  66948dd7-836b-4770-9ca4-719096c621ee       True   \n",
       "99998  cca44d19-d759-493a-a59e-0ef13ac4f129      False   \n",
       "99999  5ab821d1-712a-4aec-a453-f20288648dc7      False   \n",
       "\n",
       "                  received_at  \\\n",
       "0     2017-03-12 18:23:28.241   \n",
       "1     2017-03-20 20:36:32.177   \n",
       "2     2017-03-14 05:19:47.852   \n",
       "3     2017-03-14 02:50:29.697   \n",
       "4     2017-03-15 09:07:07.436   \n",
       "...                       ...   \n",
       "99995 2017-03-12 15:50:04.295   \n",
       "99996 2017-03-23 11:11:23.208   \n",
       "99997 2017-03-13 11:27:32.482   \n",
       "99998 2017-03-21 10:33:02.154   \n",
       "99999 2017-03-15 15:11:50.990   \n",
       "\n",
       "                                                    path  \\\n",
       "0                                   /artist/anish-kapoor   \n",
       "1                    /artwork/vernon-fisher-happy-family   \n",
       "2      /article/francesca-gavin-10-new-artists-to-wat...   \n",
       "3      /article/artsy-editorial-8-female-surrealists-...   \n",
       "4      /article/artsy-editorial-why-these-7-artists-q...   \n",
       "...                                                  ...   \n",
       "99995                                                  /   \n",
       "99996                   /artists/artists-starting-with-s   \n",
       "99997  /artwork/jean-baptiste-bernadet-untitled-vetiv...   \n",
       "99998                                              /jobs   \n",
       "99999    /artwork/enrico-donati-le-crepuscole-et-la-cite   \n",
       "\n",
       "                                                referrer  \n",
       "0                                  http://m.facebook.com  \n",
       "1                                                 others  \n",
       "2                                 https://www.google.ge/  \n",
       "3      https://l.facebook.com/l.php?u=https%3A%2F%2Fw...  \n",
       "4                              https://www.facebook.com/  \n",
       "...                                                  ...  \n",
       "99995                                             others  \n",
       "99996  https://www.artsy.net/artists/artists-starting...  \n",
       "99997  https://www.artsy.net/artist/jean-baptiste-ber...  \n",
       "99998                             https://www.artsy.net/  \n",
       "99999         https://www.artsy.net/artist/enrico-donati  \n",
       "\n",
       "[100000 rows x 5 columns]"
      ]
     },
     "execution_count": 98,
     "metadata": {},
     "output_type": "execute_result"
    }
   ],
   "source": [
    "## When referrer is NULL then 'Others'\n",
    "v.referrer.fillna(\"others\", inplace = True) \n",
    "v"
   ]
  },
  {
   "cell_type": "markdown",
   "metadata": {
    "hidden": true
   },
   "source": [
    "- Paths that are \"/\""
   ]
  },
  {
   "cell_type": "code",
   "execution_count": 99,
   "metadata": {
    "ExecuteTime": {
     "end_time": "2020-09-06T12:56:28.524367Z",
     "start_time": "2020-09-06T12:56:28.511124Z"
    },
    "hidden": true
   },
   "outputs": [
    {
     "data": {
      "text/plain": [
       "0.04283"
      ]
     },
     "execution_count": 99,
     "metadata": {},
     "output_type": "execute_result"
    }
   ],
   "source": [
    "## Check Paths equal to '/'\n",
    "len(v[v.path=='/'])/len(v)"
   ]
  },
  {
   "cell_type": "code",
   "execution_count": 100,
   "metadata": {
    "ExecuteTime": {
     "end_time": "2020-09-06T12:56:29.621309Z",
     "start_time": "2020-09-06T12:56:29.600858Z"
    },
    "hidden": true
   },
   "outputs": [
    {
     "data": {
      "text/html": [
       "<div>\n",
       "<style scoped>\n",
       "    .dataframe tbody tr th:only-of-type {\n",
       "        vertical-align: middle;\n",
       "    }\n",
       "\n",
       "    .dataframe tbody tr th {\n",
       "        vertical-align: top;\n",
       "    }\n",
       "\n",
       "    .dataframe thead th {\n",
       "        text-align: right;\n",
       "    }\n",
       "</style>\n",
       "<table border=\"1\" class=\"dataframe\">\n",
       "  <thead>\n",
       "    <tr style=\"text-align: right;\">\n",
       "      <th></th>\n",
       "      <th>anonymous_id</th>\n",
       "      <th>logged_in</th>\n",
       "      <th>received_at</th>\n",
       "      <th>path</th>\n",
       "      <th>referrer</th>\n",
       "    </tr>\n",
       "  </thead>\n",
       "  <tbody>\n",
       "    <tr>\n",
       "      <th>0</th>\n",
       "      <td>ad31b961-d67f-497c-9def-9193d518863a</td>\n",
       "      <td>False</td>\n",
       "      <td>2017-03-12 18:23:28.241</td>\n",
       "      <td>/artist/anish-kapoor</td>\n",
       "      <td>http://m.facebook.com</td>\n",
       "    </tr>\n",
       "    <tr>\n",
       "      <th>1</th>\n",
       "      <td>dd14cc5c-f31a-4591-974d-1233346b1999</td>\n",
       "      <td>False</td>\n",
       "      <td>2017-03-20 20:36:32.177</td>\n",
       "      <td>/artwork/vernon-fisher-happy-family</td>\n",
       "      <td>others</td>\n",
       "    </tr>\n",
       "    <tr>\n",
       "      <th>2</th>\n",
       "      <td>9b459a76-aaa3-44cd-9f0e-af7fb9829b2c</td>\n",
       "      <td>False</td>\n",
       "      <td>2017-03-14 05:19:47.852</td>\n",
       "      <td>/article/francesca-gavin-10-new-artists-to-wat...</td>\n",
       "      <td>https://www.google.ge/</td>\n",
       "    </tr>\n",
       "    <tr>\n",
       "      <th>3</th>\n",
       "      <td>cb745df7-c90d-4339-9519-960081515b8c</td>\n",
       "      <td>False</td>\n",
       "      <td>2017-03-14 02:50:29.697</td>\n",
       "      <td>/article/artsy-editorial-8-female-surrealists-...</td>\n",
       "      <td>https://l.facebook.com/l.php?u=https%3A%2F%2Fw...</td>\n",
       "    </tr>\n",
       "    <tr>\n",
       "      <th>4</th>\n",
       "      <td>8b18968d-4e51-4e00-b60c-d80b1ad6a55c</td>\n",
       "      <td>False</td>\n",
       "      <td>2017-03-15 09:07:07.436</td>\n",
       "      <td>/article/artsy-editorial-why-these-7-artists-q...</td>\n",
       "      <td>https://www.facebook.com/</td>\n",
       "    </tr>\n",
       "    <tr>\n",
       "      <th>...</th>\n",
       "      <td>...</td>\n",
       "      <td>...</td>\n",
       "      <td>...</td>\n",
       "      <td>...</td>\n",
       "      <td>...</td>\n",
       "    </tr>\n",
       "    <tr>\n",
       "      <th>99995</th>\n",
       "      <td>d3916f78-16ec-4614-af92-8a29640566ce</td>\n",
       "      <td>True</td>\n",
       "      <td>2017-03-12 15:50:04.295</td>\n",
       "      <td>homepage</td>\n",
       "      <td>others</td>\n",
       "    </tr>\n",
       "    <tr>\n",
       "      <th>99996</th>\n",
       "      <td>fc6a5da2-0cc0-42f2-9040-74498c50f569</td>\n",
       "      <td>False</td>\n",
       "      <td>2017-03-23 11:11:23.208</td>\n",
       "      <td>/artists/artists-starting-with-s</td>\n",
       "      <td>https://www.artsy.net/artists/artists-starting...</td>\n",
       "    </tr>\n",
       "    <tr>\n",
       "      <th>99997</th>\n",
       "      <td>66948dd7-836b-4770-9ca4-719096c621ee</td>\n",
       "      <td>True</td>\n",
       "      <td>2017-03-13 11:27:32.482</td>\n",
       "      <td>/artwork/jean-baptiste-bernadet-untitled-vetiv...</td>\n",
       "      <td>https://www.artsy.net/artist/jean-baptiste-ber...</td>\n",
       "    </tr>\n",
       "    <tr>\n",
       "      <th>99998</th>\n",
       "      <td>cca44d19-d759-493a-a59e-0ef13ac4f129</td>\n",
       "      <td>False</td>\n",
       "      <td>2017-03-21 10:33:02.154</td>\n",
       "      <td>/jobs</td>\n",
       "      <td>https://www.artsy.net/</td>\n",
       "    </tr>\n",
       "    <tr>\n",
       "      <th>99999</th>\n",
       "      <td>5ab821d1-712a-4aec-a453-f20288648dc7</td>\n",
       "      <td>False</td>\n",
       "      <td>2017-03-15 15:11:50.990</td>\n",
       "      <td>/artwork/enrico-donati-le-crepuscole-et-la-cite</td>\n",
       "      <td>https://www.artsy.net/artist/enrico-donati</td>\n",
       "    </tr>\n",
       "  </tbody>\n",
       "</table>\n",
       "<p>100000 rows × 5 columns</p>\n",
       "</div>"
      ],
      "text/plain": [
       "                               anonymous_id  logged_in  \\\n",
       "0      ad31b961-d67f-497c-9def-9193d518863a      False   \n",
       "1      dd14cc5c-f31a-4591-974d-1233346b1999      False   \n",
       "2      9b459a76-aaa3-44cd-9f0e-af7fb9829b2c      False   \n",
       "3      cb745df7-c90d-4339-9519-960081515b8c      False   \n",
       "4      8b18968d-4e51-4e00-b60c-d80b1ad6a55c      False   \n",
       "...                                     ...        ...   \n",
       "99995  d3916f78-16ec-4614-af92-8a29640566ce       True   \n",
       "99996  fc6a5da2-0cc0-42f2-9040-74498c50f569      False   \n",
       "99997  66948dd7-836b-4770-9ca4-719096c621ee       True   \n",
       "99998  cca44d19-d759-493a-a59e-0ef13ac4f129      False   \n",
       "99999  5ab821d1-712a-4aec-a453-f20288648dc7      False   \n",
       "\n",
       "                  received_at  \\\n",
       "0     2017-03-12 18:23:28.241   \n",
       "1     2017-03-20 20:36:32.177   \n",
       "2     2017-03-14 05:19:47.852   \n",
       "3     2017-03-14 02:50:29.697   \n",
       "4     2017-03-15 09:07:07.436   \n",
       "...                       ...   \n",
       "99995 2017-03-12 15:50:04.295   \n",
       "99996 2017-03-23 11:11:23.208   \n",
       "99997 2017-03-13 11:27:32.482   \n",
       "99998 2017-03-21 10:33:02.154   \n",
       "99999 2017-03-15 15:11:50.990   \n",
       "\n",
       "                                                    path  \\\n",
       "0                                   /artist/anish-kapoor   \n",
       "1                    /artwork/vernon-fisher-happy-family   \n",
       "2      /article/francesca-gavin-10-new-artists-to-wat...   \n",
       "3      /article/artsy-editorial-8-female-surrealists-...   \n",
       "4      /article/artsy-editorial-why-these-7-artists-q...   \n",
       "...                                                  ...   \n",
       "99995                                           homepage   \n",
       "99996                   /artists/artists-starting-with-s   \n",
       "99997  /artwork/jean-baptiste-bernadet-untitled-vetiv...   \n",
       "99998                                              /jobs   \n",
       "99999    /artwork/enrico-donati-le-crepuscole-et-la-cite   \n",
       "\n",
       "                                                referrer  \n",
       "0                                  http://m.facebook.com  \n",
       "1                                                 others  \n",
       "2                                 https://www.google.ge/  \n",
       "3      https://l.facebook.com/l.php?u=https%3A%2F%2Fw...  \n",
       "4                              https://www.facebook.com/  \n",
       "...                                                  ...  \n",
       "99995                                             others  \n",
       "99996  https://www.artsy.net/artists/artists-starting...  \n",
       "99997  https://www.artsy.net/artist/jean-baptiste-ber...  \n",
       "99998                             https://www.artsy.net/  \n",
       "99999         https://www.artsy.net/artist/enrico-donati  \n",
       "\n",
       "[100000 rows x 5 columns]"
      ]
     },
     "execution_count": 100,
     "metadata": {},
     "output_type": "execute_result"
    }
   ],
   "source": [
    "## When path is '/' then 'Homepage'\n",
    "v.path=v.path.replace(['/'],'homepage')\n",
    "v"
   ]
  },
  {
   "cell_type": "markdown",
   "metadata": {
    "hidden": true
   },
   "source": [
    "- Duplicate Values"
   ]
  },
  {
   "cell_type": "code",
   "execution_count": 101,
   "metadata": {
    "ExecuteTime": {
     "end_time": "2020-09-06T12:59:44.092867Z",
     "start_time": "2020-09-06T12:59:44.008870Z"
    },
    "hidden": true
   },
   "outputs": [
    {
     "data": {
      "text/plain": [
       "0"
      ]
     },
     "execution_count": 101,
     "metadata": {},
     "output_type": "execute_result"
    }
   ],
   "source": [
    "## Check for duplicates\n",
    "len(v[v.duplicated()])"
   ]
  },
  {
   "cell_type": "markdown",
   "metadata": {
    "hidden": true
   },
   "source": [
    "USERS"
   ]
  },
  {
   "cell_type": "code",
   "execution_count": 102,
   "metadata": {
    "ExecuteTime": {
     "end_time": "2020-09-06T12:59:45.598743Z",
     "start_time": "2020-09-06T12:59:45.593981Z"
    },
    "hidden": true
   },
   "outputs": [
    {
     "data": {
      "text/plain": [
       "visitor_id             int64\n",
       "has_inquired            bool\n",
       "has_an_account          bool\n",
       "article_pageviews    float64\n",
       "artist_pageviews     float64\n",
       "artwork_pageviews    float64\n",
       "dtype: object"
      ]
     },
     "execution_count": 102,
     "metadata": {},
     "output_type": "execute_result"
    }
   ],
   "source": [
    "u.dtypes"
   ]
  },
  {
   "cell_type": "markdown",
   "metadata": {
    "hidden": true
   },
   "source": [
    "- Duplicate Values"
   ]
  },
  {
   "cell_type": "code",
   "execution_count": 212,
   "metadata": {
    "ExecuteTime": {
     "end_time": "2020-09-06T15:34:47.194266Z",
     "start_time": "2020-09-06T15:34:47.187373Z"
    },
    "hidden": true
   },
   "outputs": [
    {
     "data": {
      "text/plain": [
       "0"
      ]
     },
     "execution_count": 212,
     "metadata": {},
     "output_type": "execute_result"
    }
   ],
   "source": [
    "## Check for duplicates\n",
    "len(u[u.duplicated()])"
   ]
  },
  {
   "cell_type": "markdown",
   "metadata": {
    "heading_collapsed": true
   },
   "source": [
    "### Assumptions"
   ]
  },
  {
   "cell_type": "markdown",
   "metadata": {
    "ExecuteTime": {
     "end_time": "2020-09-06T11:57:11.307605Z",
     "start_time": "2020-09-06T11:57:11.296882Z"
    },
    "hidden": true
   },
   "source": [
    "- Analysis will consider all dates provided in March 2017 (no deepdives will be done on another time granularity)\n",
    "- The 20% of Null referrers will be assumed as pageviews coming from \"outside of the web\" links, for example: copy and paste of the path, click on a link sent by someone through a message ... and will be named \"others\"\n",
    "- The 4% pageviews where the path is '/' paths will be considered as \"homepage\" views\n",
    "- There are no duplicate values so we assume that each row is unique to an user, its status, time, path and referrer"
   ]
  },
  {
   "cell_type": "code",
   "execution_count": 103,
   "metadata": {
    "ExecuteTime": {
     "end_time": "2020-09-06T12:59:51.670896Z",
     "start_time": "2020-09-06T12:59:50.492961Z"
    },
    "hidden": true
   },
   "outputs": [],
   "source": [
    "## Final Pageviews Table\n",
    "v.to_sql('views', con)"
   ]
  },
  {
   "cell_type": "code",
   "execution_count": 214,
   "metadata": {
    "ExecuteTime": {
     "end_time": "2020-09-06T15:35:07.873651Z",
     "start_time": "2020-09-06T15:35:07.610428Z"
    },
    "hidden": true
   },
   "outputs": [],
   "source": [
    "## Final Users Table\n",
    "u.to_sql('users', con)"
   ]
  },
  {
   "cell_type": "markdown",
   "metadata": {
    "heading_collapsed": true
   },
   "source": [
    "### Pageviews Exploration"
   ]
  },
  {
   "cell_type": "markdown",
   "metadata": {
    "hidden": true
   },
   "source": [
    "- What was the most seen Artsy page in this dataset?"
   ]
  },
  {
   "cell_type": "code",
   "execution_count": 104,
   "metadata": {
    "ExecuteTime": {
     "end_time": "2020-09-06T12:59:55.330971Z",
     "start_time": "2020-09-06T12:59:55.176531Z"
    },
    "hidden": true
   },
   "outputs": [
    {
     "data": {
      "text/html": [
       "<div>\n",
       "<style scoped>\n",
       "    .dataframe tbody tr th:only-of-type {\n",
       "        vertical-align: middle;\n",
       "    }\n",
       "\n",
       "    .dataframe tbody tr th {\n",
       "        vertical-align: top;\n",
       "    }\n",
       "\n",
       "    .dataframe thead th {\n",
       "        text-align: right;\n",
       "    }\n",
       "</style>\n",
       "<table border=\"1\" class=\"dataframe\">\n",
       "  <thead>\n",
       "    <tr style=\"text-align: right;\">\n",
       "      <th></th>\n",
       "      <th>path</th>\n",
       "      <th>views</th>\n",
       "    </tr>\n",
       "  </thead>\n",
       "  <tbody>\n",
       "    <tr>\n",
       "      <th>0</th>\n",
       "      <td>homepage</td>\n",
       "      <td>4283</td>\n",
       "    </tr>\n",
       "  </tbody>\n",
       "</table>\n",
       "</div>"
      ],
      "text/plain": [
       "       path  views\n",
       "0  homepage   4283"
      ]
     },
     "execution_count": 104,
     "metadata": {},
     "output_type": "execute_result"
    }
   ],
   "source": [
    "query = \"\"\"\n",
    "\n",
    "SELECT path\n",
    "    , count(*) as views -- as we do not have duplicates    \n",
    "FROM views\n",
    "Group By 1\n",
    "Order by 2 Desc\n",
    "LIMIT 1\n",
    "\n",
    "\"\"\"\n",
    "\n",
    "data=pd.read_sql_query(sql=query,con=con)\n",
    "pe1=pd.DataFrame(data=data)\n",
    "pe1"
   ]
  },
  {
   "cell_type": "markdown",
   "metadata": {
    "hidden": true
   },
   "source": [
    "- Artsy has thousands of unique urls for artworks, articles, and other entities on its site.\n",
    "- Can you think of any way to categorize these pages into \"types\"?"
   ]
  },
  {
   "cell_type": "markdown",
   "metadata": {
    "ExecuteTime": {
     "end_time": "2020-09-06T12:00:30.237911Z",
     "start_time": "2020-09-06T12:00:30.235504Z"
    },
    "hidden": true
   },
   "source": [
    "Looking at the e-commerce area and, in specific the artsy website, the main pages type can be accessed in the Header with Prio 1 (clearly visible) and Prio 2 (under \"More\") and on the Footer. Here are the main ones:"
   ]
  },
  {
   "cell_type": "markdown",
   "metadata": {
    "hidden": true
   },
   "source": [
    "Main Page Types:\n",
    "- Home Page: https://www.artsy.net/\n",
    "- Artists: https://www.artsy.net/artists\n",
    "- Artwork: https://www.artsy.net/collect\n",
    "- Auctions: https://www.artsy.net/auctions\n",
    "- Viweing Rooms: https://www.artsy.net/viewing-rooms\n",
    "- Articles/Editorial: https://www.artsy.net/articles\n",
    "- Search: https://www.artsy.net/search"
   ]
  },
  {
   "cell_type": "markdown",
   "metadata": {
    "hidden": true
   },
   "source": [
    "More\n",
    "- Galleries: https://www.artsy.net/galleries\n",
    "- Fairs: https://www.artsy.net/art-fairs\n",
    "- Shows: https://www.artsy.net/shows\n",
    "- Museums: https://www.artsy.net/institutions\n",
    "- Consign: https://www.artsy.net/consign\n",
    "- Partners: https://partners.artsy.net/"
   ]
  },
  {
   "cell_type": "markdown",
   "metadata": {
    "hidden": true
   },
   "source": [
    "Footer\n",
    "- Less Relevant"
   ]
  },
  {
   "cell_type": "markdown",
   "metadata": {
    "hidden": true
   },
   "source": [
    "- Categorize the most common ones."
   ]
  },
  {
   "cell_type": "markdown",
   "metadata": {
    "hidden": true
   },
   "source": [
    "The page type visited is identified through the url where 'artsy.net/x' x is the page type. We can isolate and group the main page types by applying substring functions to the \"path\" column."
   ]
  },
  {
   "cell_type": "code",
   "execution_count": 144,
   "metadata": {
    "ExecuteTime": {
     "end_time": "2020-09-06T13:52:38.403769Z",
     "start_time": "2020-09-06T13:52:38.122096Z"
    },
    "hidden": true
   },
   "outputs": [
    {
     "data": {
      "application/vnd.plotly.v1+json": {
       "config": {
        "plotlyServerURL": "https://plot.ly"
       },
       "data": [
        {
         "mode": "markers",
         "name": "Number of Distinct Users",
         "type": "scatter",
         "x": [
          "artist",
          "article",
          "artwork",
          "homepage",
          "show",
          "search",
          "artists",
          "collect",
          "gene",
          "auction",
          "dev",
          "galleries",
          "articles",
          "shows",
          "art-basel-in-hong-kong-2017",
          "auctions",
          "works-for-you",
          "reach-collectors-2017",
          "user",
          "art-central-2017"
         ],
         "y": [
          23485,
          22287,
          18828,
          3982,
          3015,
          2209,
          1700,
          1494,
          1348,
          1225,
          899,
          472,
          420,
          373,
          358,
          368,
          344,
          362,
          312,
          289
         ]
        },
        {
         "mode": "markers",
         "name": "Number of Views",
         "type": "scatter",
         "x": [
          "artist",
          "article",
          "artwork",
          "homepage",
          "show",
          "search",
          "artists",
          "collect",
          "gene",
          "auction",
          "dev",
          "galleries",
          "articles",
          "shows",
          "art-basel-in-hong-kong-2017",
          "auctions",
          "works-for-you",
          "reach-collectors-2017",
          "user",
          "art-central-2017"
         ],
         "y": [
          26872,
          23487,
          22499,
          4283,
          3327,
          2603,
          1941,
          1644,
          1442,
          1417,
          1117,
          490,
          469,
          421,
          389,
          385,
          379,
          378,
          346,
          317
         ]
        }
       ],
       "layout": {
        "template": {
         "data": {
          "bar": [
           {
            "error_x": {
             "color": "#2a3f5f"
            },
            "error_y": {
             "color": "#2a3f5f"
            },
            "marker": {
             "line": {
              "color": "#E5ECF6",
              "width": 0.5
             }
            },
            "type": "bar"
           }
          ],
          "barpolar": [
           {
            "marker": {
             "line": {
              "color": "#E5ECF6",
              "width": 0.5
             }
            },
            "type": "barpolar"
           }
          ],
          "carpet": [
           {
            "aaxis": {
             "endlinecolor": "#2a3f5f",
             "gridcolor": "white",
             "linecolor": "white",
             "minorgridcolor": "white",
             "startlinecolor": "#2a3f5f"
            },
            "baxis": {
             "endlinecolor": "#2a3f5f",
             "gridcolor": "white",
             "linecolor": "white",
             "minorgridcolor": "white",
             "startlinecolor": "#2a3f5f"
            },
            "type": "carpet"
           }
          ],
          "choropleth": [
           {
            "colorbar": {
             "outlinewidth": 0,
             "ticks": ""
            },
            "type": "choropleth"
           }
          ],
          "contour": [
           {
            "colorbar": {
             "outlinewidth": 0,
             "ticks": ""
            },
            "colorscale": [
             [
              0,
              "#0d0887"
             ],
             [
              0.1111111111111111,
              "#46039f"
             ],
             [
              0.2222222222222222,
              "#7201a8"
             ],
             [
              0.3333333333333333,
              "#9c179e"
             ],
             [
              0.4444444444444444,
              "#bd3786"
             ],
             [
              0.5555555555555556,
              "#d8576b"
             ],
             [
              0.6666666666666666,
              "#ed7953"
             ],
             [
              0.7777777777777778,
              "#fb9f3a"
             ],
             [
              0.8888888888888888,
              "#fdca26"
             ],
             [
              1,
              "#f0f921"
             ]
            ],
            "type": "contour"
           }
          ],
          "contourcarpet": [
           {
            "colorbar": {
             "outlinewidth": 0,
             "ticks": ""
            },
            "type": "contourcarpet"
           }
          ],
          "heatmap": [
           {
            "colorbar": {
             "outlinewidth": 0,
             "ticks": ""
            },
            "colorscale": [
             [
              0,
              "#0d0887"
             ],
             [
              0.1111111111111111,
              "#46039f"
             ],
             [
              0.2222222222222222,
              "#7201a8"
             ],
             [
              0.3333333333333333,
              "#9c179e"
             ],
             [
              0.4444444444444444,
              "#bd3786"
             ],
             [
              0.5555555555555556,
              "#d8576b"
             ],
             [
              0.6666666666666666,
              "#ed7953"
             ],
             [
              0.7777777777777778,
              "#fb9f3a"
             ],
             [
              0.8888888888888888,
              "#fdca26"
             ],
             [
              1,
              "#f0f921"
             ]
            ],
            "type": "heatmap"
           }
          ],
          "heatmapgl": [
           {
            "colorbar": {
             "outlinewidth": 0,
             "ticks": ""
            },
            "colorscale": [
             [
              0,
              "#0d0887"
             ],
             [
              0.1111111111111111,
              "#46039f"
             ],
             [
              0.2222222222222222,
              "#7201a8"
             ],
             [
              0.3333333333333333,
              "#9c179e"
             ],
             [
              0.4444444444444444,
              "#bd3786"
             ],
             [
              0.5555555555555556,
              "#d8576b"
             ],
             [
              0.6666666666666666,
              "#ed7953"
             ],
             [
              0.7777777777777778,
              "#fb9f3a"
             ],
             [
              0.8888888888888888,
              "#fdca26"
             ],
             [
              1,
              "#f0f921"
             ]
            ],
            "type": "heatmapgl"
           }
          ],
          "histogram": [
           {
            "marker": {
             "colorbar": {
              "outlinewidth": 0,
              "ticks": ""
             }
            },
            "type": "histogram"
           }
          ],
          "histogram2d": [
           {
            "colorbar": {
             "outlinewidth": 0,
             "ticks": ""
            },
            "colorscale": [
             [
              0,
              "#0d0887"
             ],
             [
              0.1111111111111111,
              "#46039f"
             ],
             [
              0.2222222222222222,
              "#7201a8"
             ],
             [
              0.3333333333333333,
              "#9c179e"
             ],
             [
              0.4444444444444444,
              "#bd3786"
             ],
             [
              0.5555555555555556,
              "#d8576b"
             ],
             [
              0.6666666666666666,
              "#ed7953"
             ],
             [
              0.7777777777777778,
              "#fb9f3a"
             ],
             [
              0.8888888888888888,
              "#fdca26"
             ],
             [
              1,
              "#f0f921"
             ]
            ],
            "type": "histogram2d"
           }
          ],
          "histogram2dcontour": [
           {
            "colorbar": {
             "outlinewidth": 0,
             "ticks": ""
            },
            "colorscale": [
             [
              0,
              "#0d0887"
             ],
             [
              0.1111111111111111,
              "#46039f"
             ],
             [
              0.2222222222222222,
              "#7201a8"
             ],
             [
              0.3333333333333333,
              "#9c179e"
             ],
             [
              0.4444444444444444,
              "#bd3786"
             ],
             [
              0.5555555555555556,
              "#d8576b"
             ],
             [
              0.6666666666666666,
              "#ed7953"
             ],
             [
              0.7777777777777778,
              "#fb9f3a"
             ],
             [
              0.8888888888888888,
              "#fdca26"
             ],
             [
              1,
              "#f0f921"
             ]
            ],
            "type": "histogram2dcontour"
           }
          ],
          "mesh3d": [
           {
            "colorbar": {
             "outlinewidth": 0,
             "ticks": ""
            },
            "type": "mesh3d"
           }
          ],
          "parcoords": [
           {
            "line": {
             "colorbar": {
              "outlinewidth": 0,
              "ticks": ""
             }
            },
            "type": "parcoords"
           }
          ],
          "pie": [
           {
            "automargin": true,
            "type": "pie"
           }
          ],
          "scatter": [
           {
            "marker": {
             "colorbar": {
              "outlinewidth": 0,
              "ticks": ""
             }
            },
            "type": "scatter"
           }
          ],
          "scatter3d": [
           {
            "line": {
             "colorbar": {
              "outlinewidth": 0,
              "ticks": ""
             }
            },
            "marker": {
             "colorbar": {
              "outlinewidth": 0,
              "ticks": ""
             }
            },
            "type": "scatter3d"
           }
          ],
          "scattercarpet": [
           {
            "marker": {
             "colorbar": {
              "outlinewidth": 0,
              "ticks": ""
             }
            },
            "type": "scattercarpet"
           }
          ],
          "scattergeo": [
           {
            "marker": {
             "colorbar": {
              "outlinewidth": 0,
              "ticks": ""
             }
            },
            "type": "scattergeo"
           }
          ],
          "scattergl": [
           {
            "marker": {
             "colorbar": {
              "outlinewidth": 0,
              "ticks": ""
             }
            },
            "type": "scattergl"
           }
          ],
          "scattermapbox": [
           {
            "marker": {
             "colorbar": {
              "outlinewidth": 0,
              "ticks": ""
             }
            },
            "type": "scattermapbox"
           }
          ],
          "scatterpolar": [
           {
            "marker": {
             "colorbar": {
              "outlinewidth": 0,
              "ticks": ""
             }
            },
            "type": "scatterpolar"
           }
          ],
          "scatterpolargl": [
           {
            "marker": {
             "colorbar": {
              "outlinewidth": 0,
              "ticks": ""
             }
            },
            "type": "scatterpolargl"
           }
          ],
          "scatterternary": [
           {
            "marker": {
             "colorbar": {
              "outlinewidth": 0,
              "ticks": ""
             }
            },
            "type": "scatterternary"
           }
          ],
          "surface": [
           {
            "colorbar": {
             "outlinewidth": 0,
             "ticks": ""
            },
            "colorscale": [
             [
              0,
              "#0d0887"
             ],
             [
              0.1111111111111111,
              "#46039f"
             ],
             [
              0.2222222222222222,
              "#7201a8"
             ],
             [
              0.3333333333333333,
              "#9c179e"
             ],
             [
              0.4444444444444444,
              "#bd3786"
             ],
             [
              0.5555555555555556,
              "#d8576b"
             ],
             [
              0.6666666666666666,
              "#ed7953"
             ],
             [
              0.7777777777777778,
              "#fb9f3a"
             ],
             [
              0.8888888888888888,
              "#fdca26"
             ],
             [
              1,
              "#f0f921"
             ]
            ],
            "type": "surface"
           }
          ],
          "table": [
           {
            "cells": {
             "fill": {
              "color": "#EBF0F8"
             },
             "line": {
              "color": "white"
             }
            },
            "header": {
             "fill": {
              "color": "#C8D4E3"
             },
             "line": {
              "color": "white"
             }
            },
            "type": "table"
           }
          ]
         },
         "layout": {
          "annotationdefaults": {
           "arrowcolor": "#2a3f5f",
           "arrowhead": 0,
           "arrowwidth": 1
          },
          "coloraxis": {
           "colorbar": {
            "outlinewidth": 0,
            "ticks": ""
           }
          },
          "colorscale": {
           "diverging": [
            [
             0,
             "#8e0152"
            ],
            [
             0.1,
             "#c51b7d"
            ],
            [
             0.2,
             "#de77ae"
            ],
            [
             0.3,
             "#f1b6da"
            ],
            [
             0.4,
             "#fde0ef"
            ],
            [
             0.5,
             "#f7f7f7"
            ],
            [
             0.6,
             "#e6f5d0"
            ],
            [
             0.7,
             "#b8e186"
            ],
            [
             0.8,
             "#7fbc41"
            ],
            [
             0.9,
             "#4d9221"
            ],
            [
             1,
             "#276419"
            ]
           ],
           "sequential": [
            [
             0,
             "#0d0887"
            ],
            [
             0.1111111111111111,
             "#46039f"
            ],
            [
             0.2222222222222222,
             "#7201a8"
            ],
            [
             0.3333333333333333,
             "#9c179e"
            ],
            [
             0.4444444444444444,
             "#bd3786"
            ],
            [
             0.5555555555555556,
             "#d8576b"
            ],
            [
             0.6666666666666666,
             "#ed7953"
            ],
            [
             0.7777777777777778,
             "#fb9f3a"
            ],
            [
             0.8888888888888888,
             "#fdca26"
            ],
            [
             1,
             "#f0f921"
            ]
           ],
           "sequentialminus": [
            [
             0,
             "#0d0887"
            ],
            [
             0.1111111111111111,
             "#46039f"
            ],
            [
             0.2222222222222222,
             "#7201a8"
            ],
            [
             0.3333333333333333,
             "#9c179e"
            ],
            [
             0.4444444444444444,
             "#bd3786"
            ],
            [
             0.5555555555555556,
             "#d8576b"
            ],
            [
             0.6666666666666666,
             "#ed7953"
            ],
            [
             0.7777777777777778,
             "#fb9f3a"
            ],
            [
             0.8888888888888888,
             "#fdca26"
            ],
            [
             1,
             "#f0f921"
            ]
           ]
          },
          "colorway": [
           "#636efa",
           "#EF553B",
           "#00cc96",
           "#ab63fa",
           "#FFA15A",
           "#19d3f3",
           "#FF6692",
           "#B6E880",
           "#FF97FF",
           "#FECB52"
          ],
          "font": {
           "color": "#2a3f5f"
          },
          "geo": {
           "bgcolor": "white",
           "lakecolor": "white",
           "landcolor": "#E5ECF6",
           "showlakes": true,
           "showland": true,
           "subunitcolor": "white"
          },
          "hoverlabel": {
           "align": "left"
          },
          "hovermode": "closest",
          "mapbox": {
           "style": "light"
          },
          "paper_bgcolor": "white",
          "plot_bgcolor": "#E5ECF6",
          "polar": {
           "angularaxis": {
            "gridcolor": "white",
            "linecolor": "white",
            "ticks": ""
           },
           "bgcolor": "#E5ECF6",
           "radialaxis": {
            "gridcolor": "white",
            "linecolor": "white",
            "ticks": ""
           }
          },
          "scene": {
           "xaxis": {
            "backgroundcolor": "#E5ECF6",
            "gridcolor": "white",
            "gridwidth": 2,
            "linecolor": "white",
            "showbackground": true,
            "ticks": "",
            "zerolinecolor": "white"
           },
           "yaxis": {
            "backgroundcolor": "#E5ECF6",
            "gridcolor": "white",
            "gridwidth": 2,
            "linecolor": "white",
            "showbackground": true,
            "ticks": "",
            "zerolinecolor": "white"
           },
           "zaxis": {
            "backgroundcolor": "#E5ECF6",
            "gridcolor": "white",
            "gridwidth": 2,
            "linecolor": "white",
            "showbackground": true,
            "ticks": "",
            "zerolinecolor": "white"
           }
          },
          "shapedefaults": {
           "line": {
            "color": "#2a3f5f"
           }
          },
          "ternary": {
           "aaxis": {
            "gridcolor": "white",
            "linecolor": "white",
            "ticks": ""
           },
           "baxis": {
            "gridcolor": "white",
            "linecolor": "white",
            "ticks": ""
           },
           "bgcolor": "#E5ECF6",
           "caxis": {
            "gridcolor": "white",
            "linecolor": "white",
            "ticks": ""
           }
          },
          "title": {
           "x": 0.05
          },
          "xaxis": {
           "automargin": true,
           "gridcolor": "white",
           "linecolor": "white",
           "ticks": "",
           "title": {
            "standoff": 15
           },
           "zerolinecolor": "white",
           "zerolinewidth": 2
          },
          "yaxis": {
           "automargin": true,
           "gridcolor": "white",
           "linecolor": "white",
           "ticks": "",
           "title": {
            "standoff": 15
           },
           "zerolinecolor": "white",
           "zerolinewidth": 2
          }
         }
        }
       }
      },
      "text/html": [
       "<div>\n",
       "        \n",
       "        \n",
       "            <div id=\"58b897f3-083d-4bb7-bd6f-f3e022bd80c8\" class=\"plotly-graph-div\" style=\"height:525px; width:100%;\"></div>\n",
       "            <script type=\"text/javascript\">\n",
       "                require([\"plotly\"], function(Plotly) {\n",
       "                    window.PLOTLYENV=window.PLOTLYENV || {};\n",
       "                    \n",
       "                if (document.getElementById(\"58b897f3-083d-4bb7-bd6f-f3e022bd80c8\")) {\n",
       "                    Plotly.newPlot(\n",
       "                        '58b897f3-083d-4bb7-bd6f-f3e022bd80c8',\n",
       "                        [{\"mode\": \"markers\", \"name\": \"Number of Distinct Users\", \"type\": \"scatter\", \"x\": [\"artist\", \"article\", \"artwork\", \"homepage\", \"show\", \"search\", \"artists\", \"collect\", \"gene\", \"auction\", \"dev\", \"galleries\", \"articles\", \"shows\", \"art-basel-in-hong-kong-2017\", \"auctions\", \"works-for-you\", \"reach-collectors-2017\", \"user\", \"art-central-2017\"], \"y\": [23485, 22287, 18828, 3982, 3015, 2209, 1700, 1494, 1348, 1225, 899, 472, 420, 373, 358, 368, 344, 362, 312, 289]}, {\"mode\": \"markers\", \"name\": \"Number of Views\", \"type\": \"scatter\", \"x\": [\"artist\", \"article\", \"artwork\", \"homepage\", \"show\", \"search\", \"artists\", \"collect\", \"gene\", \"auction\", \"dev\", \"galleries\", \"articles\", \"shows\", \"art-basel-in-hong-kong-2017\", \"auctions\", \"works-for-you\", \"reach-collectors-2017\", \"user\", \"art-central-2017\"], \"y\": [26872, 23487, 22499, 4283, 3327, 2603, 1941, 1644, 1442, 1417, 1117, 490, 469, 421, 389, 385, 379, 378, 346, 317]}],\n",
       "                        {\"template\": {\"data\": {\"bar\": [{\"error_x\": {\"color\": \"#2a3f5f\"}, \"error_y\": {\"color\": \"#2a3f5f\"}, \"marker\": {\"line\": {\"color\": \"#E5ECF6\", \"width\": 0.5}}, \"type\": \"bar\"}], \"barpolar\": [{\"marker\": {\"line\": {\"color\": \"#E5ECF6\", \"width\": 0.5}}, \"type\": \"barpolar\"}], \"carpet\": [{\"aaxis\": {\"endlinecolor\": \"#2a3f5f\", \"gridcolor\": \"white\", \"linecolor\": \"white\", \"minorgridcolor\": \"white\", \"startlinecolor\": \"#2a3f5f\"}, \"baxis\": {\"endlinecolor\": \"#2a3f5f\", \"gridcolor\": \"white\", \"linecolor\": \"white\", \"minorgridcolor\": \"white\", \"startlinecolor\": \"#2a3f5f\"}, \"type\": \"carpet\"}], \"choropleth\": [{\"colorbar\": {\"outlinewidth\": 0, \"ticks\": \"\"}, \"type\": \"choropleth\"}], \"contour\": [{\"colorbar\": {\"outlinewidth\": 0, \"ticks\": \"\"}, \"colorscale\": [[0.0, \"#0d0887\"], [0.1111111111111111, \"#46039f\"], [0.2222222222222222, \"#7201a8\"], [0.3333333333333333, \"#9c179e\"], [0.4444444444444444, \"#bd3786\"], [0.5555555555555556, \"#d8576b\"], [0.6666666666666666, \"#ed7953\"], [0.7777777777777778, \"#fb9f3a\"], [0.8888888888888888, \"#fdca26\"], [1.0, \"#f0f921\"]], \"type\": \"contour\"}], \"contourcarpet\": [{\"colorbar\": {\"outlinewidth\": 0, \"ticks\": \"\"}, \"type\": \"contourcarpet\"}], \"heatmap\": [{\"colorbar\": {\"outlinewidth\": 0, \"ticks\": \"\"}, \"colorscale\": [[0.0, \"#0d0887\"], [0.1111111111111111, \"#46039f\"], [0.2222222222222222, \"#7201a8\"], [0.3333333333333333, \"#9c179e\"], [0.4444444444444444, \"#bd3786\"], [0.5555555555555556, \"#d8576b\"], [0.6666666666666666, \"#ed7953\"], [0.7777777777777778, \"#fb9f3a\"], [0.8888888888888888, \"#fdca26\"], [1.0, \"#f0f921\"]], \"type\": \"heatmap\"}], \"heatmapgl\": [{\"colorbar\": {\"outlinewidth\": 0, \"ticks\": \"\"}, \"colorscale\": [[0.0, \"#0d0887\"], [0.1111111111111111, \"#46039f\"], [0.2222222222222222, \"#7201a8\"], [0.3333333333333333, \"#9c179e\"], [0.4444444444444444, \"#bd3786\"], [0.5555555555555556, \"#d8576b\"], [0.6666666666666666, \"#ed7953\"], [0.7777777777777778, \"#fb9f3a\"], [0.8888888888888888, \"#fdca26\"], [1.0, \"#f0f921\"]], \"type\": \"heatmapgl\"}], \"histogram\": [{\"marker\": {\"colorbar\": {\"outlinewidth\": 0, \"ticks\": \"\"}}, \"type\": \"histogram\"}], \"histogram2d\": [{\"colorbar\": {\"outlinewidth\": 0, \"ticks\": \"\"}, \"colorscale\": [[0.0, \"#0d0887\"], [0.1111111111111111, \"#46039f\"], [0.2222222222222222, \"#7201a8\"], [0.3333333333333333, \"#9c179e\"], [0.4444444444444444, \"#bd3786\"], [0.5555555555555556, \"#d8576b\"], [0.6666666666666666, \"#ed7953\"], [0.7777777777777778, \"#fb9f3a\"], [0.8888888888888888, \"#fdca26\"], [1.0, \"#f0f921\"]], \"type\": \"histogram2d\"}], \"histogram2dcontour\": [{\"colorbar\": {\"outlinewidth\": 0, \"ticks\": \"\"}, \"colorscale\": [[0.0, \"#0d0887\"], [0.1111111111111111, \"#46039f\"], [0.2222222222222222, \"#7201a8\"], [0.3333333333333333, \"#9c179e\"], [0.4444444444444444, \"#bd3786\"], [0.5555555555555556, \"#d8576b\"], [0.6666666666666666, \"#ed7953\"], [0.7777777777777778, \"#fb9f3a\"], [0.8888888888888888, \"#fdca26\"], [1.0, \"#f0f921\"]], \"type\": \"histogram2dcontour\"}], \"mesh3d\": [{\"colorbar\": {\"outlinewidth\": 0, \"ticks\": \"\"}, \"type\": \"mesh3d\"}], \"parcoords\": [{\"line\": {\"colorbar\": {\"outlinewidth\": 0, \"ticks\": \"\"}}, \"type\": \"parcoords\"}], \"pie\": [{\"automargin\": true, \"type\": \"pie\"}], \"scatter\": [{\"marker\": {\"colorbar\": {\"outlinewidth\": 0, \"ticks\": \"\"}}, \"type\": \"scatter\"}], \"scatter3d\": [{\"line\": {\"colorbar\": {\"outlinewidth\": 0, \"ticks\": \"\"}}, \"marker\": {\"colorbar\": {\"outlinewidth\": 0, \"ticks\": \"\"}}, \"type\": \"scatter3d\"}], \"scattercarpet\": [{\"marker\": {\"colorbar\": {\"outlinewidth\": 0, \"ticks\": \"\"}}, \"type\": \"scattercarpet\"}], \"scattergeo\": [{\"marker\": {\"colorbar\": {\"outlinewidth\": 0, \"ticks\": \"\"}}, \"type\": \"scattergeo\"}], \"scattergl\": [{\"marker\": {\"colorbar\": {\"outlinewidth\": 0, \"ticks\": \"\"}}, \"type\": \"scattergl\"}], \"scattermapbox\": [{\"marker\": {\"colorbar\": {\"outlinewidth\": 0, \"ticks\": \"\"}}, \"type\": \"scattermapbox\"}], \"scatterpolar\": [{\"marker\": {\"colorbar\": {\"outlinewidth\": 0, \"ticks\": \"\"}}, \"type\": \"scatterpolar\"}], \"scatterpolargl\": [{\"marker\": {\"colorbar\": {\"outlinewidth\": 0, \"ticks\": \"\"}}, \"type\": \"scatterpolargl\"}], \"scatterternary\": [{\"marker\": {\"colorbar\": {\"outlinewidth\": 0, \"ticks\": \"\"}}, \"type\": \"scatterternary\"}], \"surface\": [{\"colorbar\": {\"outlinewidth\": 0, \"ticks\": \"\"}, \"colorscale\": [[0.0, \"#0d0887\"], [0.1111111111111111, \"#46039f\"], [0.2222222222222222, \"#7201a8\"], [0.3333333333333333, \"#9c179e\"], [0.4444444444444444, \"#bd3786\"], [0.5555555555555556, \"#d8576b\"], [0.6666666666666666, \"#ed7953\"], [0.7777777777777778, \"#fb9f3a\"], [0.8888888888888888, \"#fdca26\"], [1.0, \"#f0f921\"]], \"type\": \"surface\"}], \"table\": [{\"cells\": {\"fill\": {\"color\": \"#EBF0F8\"}, \"line\": {\"color\": \"white\"}}, \"header\": {\"fill\": {\"color\": \"#C8D4E3\"}, \"line\": {\"color\": \"white\"}}, \"type\": \"table\"}]}, \"layout\": {\"annotationdefaults\": {\"arrowcolor\": \"#2a3f5f\", \"arrowhead\": 0, \"arrowwidth\": 1}, \"coloraxis\": {\"colorbar\": {\"outlinewidth\": 0, \"ticks\": \"\"}}, \"colorscale\": {\"diverging\": [[0, \"#8e0152\"], [0.1, \"#c51b7d\"], [0.2, \"#de77ae\"], [0.3, \"#f1b6da\"], [0.4, \"#fde0ef\"], [0.5, \"#f7f7f7\"], [0.6, \"#e6f5d0\"], [0.7, \"#b8e186\"], [0.8, \"#7fbc41\"], [0.9, \"#4d9221\"], [1, \"#276419\"]], \"sequential\": [[0.0, \"#0d0887\"], [0.1111111111111111, \"#46039f\"], [0.2222222222222222, \"#7201a8\"], [0.3333333333333333, \"#9c179e\"], [0.4444444444444444, \"#bd3786\"], [0.5555555555555556, \"#d8576b\"], [0.6666666666666666, \"#ed7953\"], [0.7777777777777778, \"#fb9f3a\"], [0.8888888888888888, \"#fdca26\"], [1.0, \"#f0f921\"]], \"sequentialminus\": [[0.0, \"#0d0887\"], [0.1111111111111111, \"#46039f\"], [0.2222222222222222, \"#7201a8\"], [0.3333333333333333, \"#9c179e\"], [0.4444444444444444, \"#bd3786\"], [0.5555555555555556, \"#d8576b\"], [0.6666666666666666, \"#ed7953\"], [0.7777777777777778, \"#fb9f3a\"], [0.8888888888888888, \"#fdca26\"], [1.0, \"#f0f921\"]]}, \"colorway\": [\"#636efa\", \"#EF553B\", \"#00cc96\", \"#ab63fa\", \"#FFA15A\", \"#19d3f3\", \"#FF6692\", \"#B6E880\", \"#FF97FF\", \"#FECB52\"], \"font\": {\"color\": \"#2a3f5f\"}, \"geo\": {\"bgcolor\": \"white\", \"lakecolor\": \"white\", \"landcolor\": \"#E5ECF6\", \"showlakes\": true, \"showland\": true, \"subunitcolor\": \"white\"}, \"hoverlabel\": {\"align\": \"left\"}, \"hovermode\": \"closest\", \"mapbox\": {\"style\": \"light\"}, \"paper_bgcolor\": \"white\", \"plot_bgcolor\": \"#E5ECF6\", \"polar\": {\"angularaxis\": {\"gridcolor\": \"white\", \"linecolor\": \"white\", \"ticks\": \"\"}, \"bgcolor\": \"#E5ECF6\", \"radialaxis\": {\"gridcolor\": \"white\", \"linecolor\": \"white\", \"ticks\": \"\"}}, \"scene\": {\"xaxis\": {\"backgroundcolor\": \"#E5ECF6\", \"gridcolor\": \"white\", \"gridwidth\": 2, \"linecolor\": \"white\", \"showbackground\": true, \"ticks\": \"\", \"zerolinecolor\": \"white\"}, \"yaxis\": {\"backgroundcolor\": \"#E5ECF6\", \"gridcolor\": \"white\", \"gridwidth\": 2, \"linecolor\": \"white\", \"showbackground\": true, \"ticks\": \"\", \"zerolinecolor\": \"white\"}, \"zaxis\": {\"backgroundcolor\": \"#E5ECF6\", \"gridcolor\": \"white\", \"gridwidth\": 2, \"linecolor\": \"white\", \"showbackground\": true, \"ticks\": \"\", \"zerolinecolor\": \"white\"}}, \"shapedefaults\": {\"line\": {\"color\": \"#2a3f5f\"}}, \"ternary\": {\"aaxis\": {\"gridcolor\": \"white\", \"linecolor\": \"white\", \"ticks\": \"\"}, \"baxis\": {\"gridcolor\": \"white\", \"linecolor\": \"white\", \"ticks\": \"\"}, \"bgcolor\": \"#E5ECF6\", \"caxis\": {\"gridcolor\": \"white\", \"linecolor\": \"white\", \"ticks\": \"\"}}, \"title\": {\"x\": 0.05}, \"xaxis\": {\"automargin\": true, \"gridcolor\": \"white\", \"linecolor\": \"white\", \"ticks\": \"\", \"title\": {\"standoff\": 15}, \"zerolinecolor\": \"white\", \"zerolinewidth\": 2}, \"yaxis\": {\"automargin\": true, \"gridcolor\": \"white\", \"linecolor\": \"white\", \"ticks\": \"\", \"title\": {\"standoff\": 15}, \"zerolinecolor\": \"white\", \"zerolinewidth\": 2}}}},\n",
       "                        {\"responsive\": true}\n",
       "                    ).then(function(){\n",
       "                            \n",
       "var gd = document.getElementById('58b897f3-083d-4bb7-bd6f-f3e022bd80c8');\n",
       "var x = new MutationObserver(function (mutations, observer) {{\n",
       "        var display = window.getComputedStyle(gd).display;\n",
       "        if (!display || display === 'none') {{\n",
       "            console.log([gd, 'removed!']);\n",
       "            Plotly.purge(gd);\n",
       "            observer.disconnect();\n",
       "        }}\n",
       "}});\n",
       "\n",
       "// Listen for the removal of the full notebook cells\n",
       "var notebookContainer = gd.closest('#notebook-container');\n",
       "if (notebookContainer) {{\n",
       "    x.observe(notebookContainer, {childList: true});\n",
       "}}\n",
       "\n",
       "// Listen for the clearing of the current output cell\n",
       "var outputEl = gd.closest('.output');\n",
       "if (outputEl) {{\n",
       "    x.observe(outputEl, {childList: true});\n",
       "}}\n",
       "\n",
       "                        })\n",
       "                };\n",
       "                });\n",
       "            </script>\n",
       "        </div>"
      ]
     },
     "metadata": {},
     "output_type": "display_data"
    }
   ],
   "source": [
    "query = \"\"\"\n",
    "\n",
    "SELECT case when path not like '%/%' then path\n",
    "            when instr(substr(path, instr(path, '/') + 1),'/') = 0 then substr(path, instr(path, '/')+1, length(path)) \n",
    "            else substr(path, instr(path, '/')+1, instr(substr(path, instr(path, '/') + 1),'/')-1)\n",
    "            end as page_type    \n",
    "    , count(distinct v.anonymous_id) as users\n",
    "    , count(*) as views \n",
    "    \n",
    "FROM views v\n",
    "\n",
    "GROUP BY 1\n",
    "ORDER BY 3 desc\n",
    "\n",
    "LIMIT 20\n",
    "\n",
    "\"\"\"\n",
    "\n",
    "data=pd.read_sql_query(sql=query,con=con)\n",
    "pe2=pd.DataFrame(data=data)\n",
    "\n",
    "\n",
    "fig = go.Figure()\n",
    "fig.add_trace(go.Scatter(x=pe2.page_type, y=pe2.users,\n",
    "                    mode='markers',\n",
    "                    name='Number of Distinct Users'))\n",
    "fig.add_trace(go.Scatter(x=pe2.page_type, y=pe2.views,\n",
    "                    mode='markers',\n",
    "                    name='Number of Views'))\n",
    "fig.show()"
   ]
  },
  {
   "cell_type": "markdown",
   "metadata": {
    "hidden": true
   },
   "source": [
    "- Please provide code that would add a new column to a dataframe of pageviews in Python (pandas) or R containing the page type you’ve defined."
   ]
  },
  {
   "cell_type": "code",
   "execution_count": 300,
   "metadata": {
    "ExecuteTime": {
     "end_time": "2020-09-06T17:02:58.987193Z",
     "start_time": "2020-09-06T17:02:58.909485Z"
    },
    "hidden": true
   },
   "outputs": [
    {
     "data": {
      "text/html": [
       "<div>\n",
       "<style scoped>\n",
       "    .dataframe tbody tr th:only-of-type {\n",
       "        vertical-align: middle;\n",
       "    }\n",
       "\n",
       "    .dataframe tbody tr th {\n",
       "        vertical-align: top;\n",
       "    }\n",
       "\n",
       "    .dataframe thead th {\n",
       "        text-align: right;\n",
       "    }\n",
       "</style>\n",
       "<table border=\"1\" class=\"dataframe\">\n",
       "  <thead>\n",
       "    <tr style=\"text-align: right;\">\n",
       "      <th></th>\n",
       "      <th>anonymous_id</th>\n",
       "      <th>logged_in</th>\n",
       "      <th>received_at</th>\n",
       "      <th>path</th>\n",
       "      <th>referrer</th>\n",
       "      <th>page_type</th>\n",
       "    </tr>\n",
       "  </thead>\n",
       "  <tbody>\n",
       "    <tr>\n",
       "      <th>0</th>\n",
       "      <td>ad31b961-d67f-497c-9def-9193d518863a</td>\n",
       "      <td>False</td>\n",
       "      <td>2017-03-12 18:23:28.241</td>\n",
       "      <td>/artist/anish-kapoor</td>\n",
       "      <td>http://m.facebook.com</td>\n",
       "      <td>artist</td>\n",
       "    </tr>\n",
       "    <tr>\n",
       "      <th>1</th>\n",
       "      <td>dd14cc5c-f31a-4591-974d-1233346b1999</td>\n",
       "      <td>False</td>\n",
       "      <td>2017-03-20 20:36:32.177</td>\n",
       "      <td>/artwork/vernon-fisher-happy-family</td>\n",
       "      <td>others</td>\n",
       "      <td>artwork</td>\n",
       "    </tr>\n",
       "    <tr>\n",
       "      <th>2</th>\n",
       "      <td>9b459a76-aaa3-44cd-9f0e-af7fb9829b2c</td>\n",
       "      <td>False</td>\n",
       "      <td>2017-03-14 05:19:47.852</td>\n",
       "      <td>/article/francesca-gavin-10-new-artists-to-wat...</td>\n",
       "      <td>https://www.google.ge/</td>\n",
       "      <td>article</td>\n",
       "    </tr>\n",
       "    <tr>\n",
       "      <th>3</th>\n",
       "      <td>cb745df7-c90d-4339-9519-960081515b8c</td>\n",
       "      <td>False</td>\n",
       "      <td>2017-03-14 02:50:29.697</td>\n",
       "      <td>/article/artsy-editorial-8-female-surrealists-...</td>\n",
       "      <td>https://l.facebook.com/l.php?u=https%3A%2F%2Fw...</td>\n",
       "      <td>article</td>\n",
       "    </tr>\n",
       "    <tr>\n",
       "      <th>4</th>\n",
       "      <td>8b18968d-4e51-4e00-b60c-d80b1ad6a55c</td>\n",
       "      <td>False</td>\n",
       "      <td>2017-03-15 09:07:07.436</td>\n",
       "      <td>/article/artsy-editorial-why-these-7-artists-q...</td>\n",
       "      <td>https://www.facebook.com/</td>\n",
       "      <td>article</td>\n",
       "    </tr>\n",
       "    <tr>\n",
       "      <th>...</th>\n",
       "      <td>...</td>\n",
       "      <td>...</td>\n",
       "      <td>...</td>\n",
       "      <td>...</td>\n",
       "      <td>...</td>\n",
       "      <td>...</td>\n",
       "    </tr>\n",
       "    <tr>\n",
       "      <th>99995</th>\n",
       "      <td>d3916f78-16ec-4614-af92-8a29640566ce</td>\n",
       "      <td>True</td>\n",
       "      <td>2017-03-12 15:50:04.295</td>\n",
       "      <td>homepage</td>\n",
       "      <td>others</td>\n",
       "      <td>homepage</td>\n",
       "    </tr>\n",
       "    <tr>\n",
       "      <th>99996</th>\n",
       "      <td>fc6a5da2-0cc0-42f2-9040-74498c50f569</td>\n",
       "      <td>False</td>\n",
       "      <td>2017-03-23 11:11:23.208</td>\n",
       "      <td>/artists/artists-starting-with-s</td>\n",
       "      <td>https://www.artsy.net/artists/artists-starting...</td>\n",
       "      <td>artists</td>\n",
       "    </tr>\n",
       "    <tr>\n",
       "      <th>99997</th>\n",
       "      <td>66948dd7-836b-4770-9ca4-719096c621ee</td>\n",
       "      <td>True</td>\n",
       "      <td>2017-03-13 11:27:32.482</td>\n",
       "      <td>/artwork/jean-baptiste-bernadet-untitled-vetiv...</td>\n",
       "      <td>https://www.artsy.net/artist/jean-baptiste-ber...</td>\n",
       "      <td>artwork</td>\n",
       "    </tr>\n",
       "    <tr>\n",
       "      <th>99998</th>\n",
       "      <td>cca44d19-d759-493a-a59e-0ef13ac4f129</td>\n",
       "      <td>False</td>\n",
       "      <td>2017-03-21 10:33:02.154</td>\n",
       "      <td>/jobs</td>\n",
       "      <td>https://www.artsy.net/</td>\n",
       "      <td>jobs</td>\n",
       "    </tr>\n",
       "    <tr>\n",
       "      <th>99999</th>\n",
       "      <td>5ab821d1-712a-4aec-a453-f20288648dc7</td>\n",
       "      <td>False</td>\n",
       "      <td>2017-03-15 15:11:50.990</td>\n",
       "      <td>/artwork/enrico-donati-le-crepuscole-et-la-cite</td>\n",
       "      <td>https://www.artsy.net/artist/enrico-donati</td>\n",
       "      <td>artwork</td>\n",
       "    </tr>\n",
       "  </tbody>\n",
       "</table>\n",
       "<p>100000 rows × 6 columns</p>\n",
       "</div>"
      ],
      "text/plain": [
       "                               anonymous_id  logged_in  \\\n",
       "0      ad31b961-d67f-497c-9def-9193d518863a      False   \n",
       "1      dd14cc5c-f31a-4591-974d-1233346b1999      False   \n",
       "2      9b459a76-aaa3-44cd-9f0e-af7fb9829b2c      False   \n",
       "3      cb745df7-c90d-4339-9519-960081515b8c      False   \n",
       "4      8b18968d-4e51-4e00-b60c-d80b1ad6a55c      False   \n",
       "...                                     ...        ...   \n",
       "99995  d3916f78-16ec-4614-af92-8a29640566ce       True   \n",
       "99996  fc6a5da2-0cc0-42f2-9040-74498c50f569      False   \n",
       "99997  66948dd7-836b-4770-9ca4-719096c621ee       True   \n",
       "99998  cca44d19-d759-493a-a59e-0ef13ac4f129      False   \n",
       "99999  5ab821d1-712a-4aec-a453-f20288648dc7      False   \n",
       "\n",
       "                  received_at  \\\n",
       "0     2017-03-12 18:23:28.241   \n",
       "1     2017-03-20 20:36:32.177   \n",
       "2     2017-03-14 05:19:47.852   \n",
       "3     2017-03-14 02:50:29.697   \n",
       "4     2017-03-15 09:07:07.436   \n",
       "...                       ...   \n",
       "99995 2017-03-12 15:50:04.295   \n",
       "99996 2017-03-23 11:11:23.208   \n",
       "99997 2017-03-13 11:27:32.482   \n",
       "99998 2017-03-21 10:33:02.154   \n",
       "99999 2017-03-15 15:11:50.990   \n",
       "\n",
       "                                                    path  \\\n",
       "0                                   /artist/anish-kapoor   \n",
       "1                    /artwork/vernon-fisher-happy-family   \n",
       "2      /article/francesca-gavin-10-new-artists-to-wat...   \n",
       "3      /article/artsy-editorial-8-female-surrealists-...   \n",
       "4      /article/artsy-editorial-why-these-7-artists-q...   \n",
       "...                                                  ...   \n",
       "99995                                           homepage   \n",
       "99996                   /artists/artists-starting-with-s   \n",
       "99997  /artwork/jean-baptiste-bernadet-untitled-vetiv...   \n",
       "99998                                              /jobs   \n",
       "99999    /artwork/enrico-donati-le-crepuscole-et-la-cite   \n",
       "\n",
       "                                                referrer page_type  \n",
       "0                                  http://m.facebook.com    artist  \n",
       "1                                                 others   artwork  \n",
       "2                                 https://www.google.ge/   article  \n",
       "3      https://l.facebook.com/l.php?u=https%3A%2F%2Fw...   article  \n",
       "4                              https://www.facebook.com/   article  \n",
       "...                                                  ...       ...  \n",
       "99995                                             others  homepage  \n",
       "99996  https://www.artsy.net/artists/artists-starting...   artists  \n",
       "99997  https://www.artsy.net/artist/jean-baptiste-ber...   artwork  \n",
       "99998                             https://www.artsy.net/      jobs  \n",
       "99999         https://www.artsy.net/artist/enrico-donati   artwork  \n",
       "\n",
       "[100000 rows x 6 columns]"
      ]
     },
     "execution_count": 300,
     "metadata": {},
     "output_type": "execute_result"
    }
   ],
   "source": [
    "v['page_type'] = v.path.map(lambda t:  t if not t.startswith('/') else t.split('/')[1])\n",
    "v"
   ]
  },
  {
   "cell_type": "markdown",
   "metadata": {
    "hidden": true
   },
   "source": [
    "What is the breakdown of pageviews of each page type (as you’ve defined them)?\n",
    "- for logged in visitors\n",
    "- for logged out"
   ]
  },
  {
   "cell_type": "code",
   "execution_count": 302,
   "metadata": {
    "ExecuteTime": {
     "end_time": "2020-09-06T17:03:33.325725Z",
     "start_time": "2020-09-06T17:03:33.285105Z"
    },
    "hidden": true
   },
   "outputs": [
    {
     "data": {
      "text/html": [
       "<div>\n",
       "<style scoped>\n",
       "    .dataframe tbody tr th:only-of-type {\n",
       "        vertical-align: middle;\n",
       "    }\n",
       "\n",
       "    .dataframe tbody tr th {\n",
       "        vertical-align: top;\n",
       "    }\n",
       "\n",
       "    .dataframe thead th {\n",
       "        text-align: right;\n",
       "    }\n",
       "</style>\n",
       "<table border=\"1\" class=\"dataframe\">\n",
       "  <thead>\n",
       "    <tr style=\"text-align: right;\">\n",
       "      <th></th>\n",
       "      <th>anonymous_id</th>\n",
       "      <th>logged_in</th>\n",
       "      <th>received_at</th>\n",
       "      <th>path</th>\n",
       "      <th>referrer</th>\n",
       "      <th>page_type</th>\n",
       "    </tr>\n",
       "  </thead>\n",
       "  <tbody>\n",
       "    <tr>\n",
       "      <th>0</th>\n",
       "      <td>ad31b961-d67f-497c-9def-9193d518863a</td>\n",
       "      <td>False</td>\n",
       "      <td>2017-03-12 18:23:28.241</td>\n",
       "      <td>/artist/anish-kapoor</td>\n",
       "      <td>http://m.facebook.com</td>\n",
       "      <td>artist</td>\n",
       "    </tr>\n",
       "    <tr>\n",
       "      <th>1</th>\n",
       "      <td>dd14cc5c-f31a-4591-974d-1233346b1999</td>\n",
       "      <td>False</td>\n",
       "      <td>2017-03-20 20:36:32.177</td>\n",
       "      <td>/artwork/vernon-fisher-happy-family</td>\n",
       "      <td>others</td>\n",
       "      <td>artwork</td>\n",
       "    </tr>\n",
       "    <tr>\n",
       "      <th>2</th>\n",
       "      <td>9b459a76-aaa3-44cd-9f0e-af7fb9829b2c</td>\n",
       "      <td>False</td>\n",
       "      <td>2017-03-14 05:19:47.852</td>\n",
       "      <td>/article/francesca-gavin-10-new-artists-to-wat...</td>\n",
       "      <td>https://www.google.ge/</td>\n",
       "      <td>article</td>\n",
       "    </tr>\n",
       "    <tr>\n",
       "      <th>3</th>\n",
       "      <td>cb745df7-c90d-4339-9519-960081515b8c</td>\n",
       "      <td>False</td>\n",
       "      <td>2017-03-14 02:50:29.697</td>\n",
       "      <td>/article/artsy-editorial-8-female-surrealists-...</td>\n",
       "      <td>https://l.facebook.com/l.php?u=https%3A%2F%2Fw...</td>\n",
       "      <td>article</td>\n",
       "    </tr>\n",
       "    <tr>\n",
       "      <th>4</th>\n",
       "      <td>8b18968d-4e51-4e00-b60c-d80b1ad6a55c</td>\n",
       "      <td>False</td>\n",
       "      <td>2017-03-15 09:07:07.436</td>\n",
       "      <td>/article/artsy-editorial-why-these-7-artists-q...</td>\n",
       "      <td>https://www.facebook.com/</td>\n",
       "      <td>article</td>\n",
       "    </tr>\n",
       "    <tr>\n",
       "      <th>...</th>\n",
       "      <td>...</td>\n",
       "      <td>...</td>\n",
       "      <td>...</td>\n",
       "      <td>...</td>\n",
       "      <td>...</td>\n",
       "      <td>...</td>\n",
       "    </tr>\n",
       "    <tr>\n",
       "      <th>99994</th>\n",
       "      <td>8fb33b2a-9e26-4df8-b9d0-971e6cc7fd1c</td>\n",
       "      <td>False</td>\n",
       "      <td>2017-03-12 01:29:11.310</td>\n",
       "      <td>homepage</td>\n",
       "      <td>https://www.artsy.net/</td>\n",
       "      <td>homepage</td>\n",
       "    </tr>\n",
       "    <tr>\n",
       "      <th>99995</th>\n",
       "      <td>d3916f78-16ec-4614-af92-8a29640566ce</td>\n",
       "      <td>True</td>\n",
       "      <td>2017-03-12 15:50:04.295</td>\n",
       "      <td>homepage</td>\n",
       "      <td>others</td>\n",
       "      <td>homepage</td>\n",
       "    </tr>\n",
       "    <tr>\n",
       "      <th>99996</th>\n",
       "      <td>fc6a5da2-0cc0-42f2-9040-74498c50f569</td>\n",
       "      <td>False</td>\n",
       "      <td>2017-03-23 11:11:23.208</td>\n",
       "      <td>/artists/artists-starting-with-s</td>\n",
       "      <td>https://www.artsy.net/artists/artists-starting...</td>\n",
       "      <td>artists</td>\n",
       "    </tr>\n",
       "    <tr>\n",
       "      <th>99997</th>\n",
       "      <td>66948dd7-836b-4770-9ca4-719096c621ee</td>\n",
       "      <td>True</td>\n",
       "      <td>2017-03-13 11:27:32.482</td>\n",
       "      <td>/artwork/jean-baptiste-bernadet-untitled-vetiv...</td>\n",
       "      <td>https://www.artsy.net/artist/jean-baptiste-ber...</td>\n",
       "      <td>artwork</td>\n",
       "    </tr>\n",
       "    <tr>\n",
       "      <th>99999</th>\n",
       "      <td>5ab821d1-712a-4aec-a453-f20288648dc7</td>\n",
       "      <td>False</td>\n",
       "      <td>2017-03-15 15:11:50.990</td>\n",
       "      <td>/artwork/enrico-donati-le-crepuscole-et-la-cite</td>\n",
       "      <td>https://www.artsy.net/artist/enrico-donati</td>\n",
       "      <td>artwork</td>\n",
       "    </tr>\n",
       "  </tbody>\n",
       "</table>\n",
       "<p>89515 rows × 6 columns</p>\n",
       "</div>"
      ],
      "text/plain": [
       "                               anonymous_id  logged_in  \\\n",
       "0      ad31b961-d67f-497c-9def-9193d518863a      False   \n",
       "1      dd14cc5c-f31a-4591-974d-1233346b1999      False   \n",
       "2      9b459a76-aaa3-44cd-9f0e-af7fb9829b2c      False   \n",
       "3      cb745df7-c90d-4339-9519-960081515b8c      False   \n",
       "4      8b18968d-4e51-4e00-b60c-d80b1ad6a55c      False   \n",
       "...                                     ...        ...   \n",
       "99994  8fb33b2a-9e26-4df8-b9d0-971e6cc7fd1c      False   \n",
       "99995  d3916f78-16ec-4614-af92-8a29640566ce       True   \n",
       "99996  fc6a5da2-0cc0-42f2-9040-74498c50f569      False   \n",
       "99997  66948dd7-836b-4770-9ca4-719096c621ee       True   \n",
       "99999  5ab821d1-712a-4aec-a453-f20288648dc7      False   \n",
       "\n",
       "                  received_at  \\\n",
       "0     2017-03-12 18:23:28.241   \n",
       "1     2017-03-20 20:36:32.177   \n",
       "2     2017-03-14 05:19:47.852   \n",
       "3     2017-03-14 02:50:29.697   \n",
       "4     2017-03-15 09:07:07.436   \n",
       "...                       ...   \n",
       "99994 2017-03-12 01:29:11.310   \n",
       "99995 2017-03-12 15:50:04.295   \n",
       "99996 2017-03-23 11:11:23.208   \n",
       "99997 2017-03-13 11:27:32.482   \n",
       "99999 2017-03-15 15:11:50.990   \n",
       "\n",
       "                                                    path  \\\n",
       "0                                   /artist/anish-kapoor   \n",
       "1                    /artwork/vernon-fisher-happy-family   \n",
       "2      /article/francesca-gavin-10-new-artists-to-wat...   \n",
       "3      /article/artsy-editorial-8-female-surrealists-...   \n",
       "4      /article/artsy-editorial-why-these-7-artists-q...   \n",
       "...                                                  ...   \n",
       "99994                                           homepage   \n",
       "99995                                           homepage   \n",
       "99996                   /artists/artists-starting-with-s   \n",
       "99997  /artwork/jean-baptiste-bernadet-untitled-vetiv...   \n",
       "99999    /artwork/enrico-donati-le-crepuscole-et-la-cite   \n",
       "\n",
       "                                                referrer page_type  \n",
       "0                                  http://m.facebook.com    artist  \n",
       "1                                                 others   artwork  \n",
       "2                                 https://www.google.ge/   article  \n",
       "3      https://l.facebook.com/l.php?u=https%3A%2F%2Fw...   article  \n",
       "4                              https://www.facebook.com/   article  \n",
       "...                                                  ...       ...  \n",
       "99994                             https://www.artsy.net/  homepage  \n",
       "99995                                             others  homepage  \n",
       "99996  https://www.artsy.net/artists/artists-starting...   artists  \n",
       "99997  https://www.artsy.net/artist/jean-baptiste-ber...   artwork  \n",
       "99999         https://www.artsy.net/artist/enrico-donati   artwork  \n",
       "\n",
       "[89515 rows x 6 columns]"
      ]
     },
     "execution_count": 302,
     "metadata": {},
     "output_type": "execute_result"
    }
   ],
   "source": [
    "## Top Page Types\n",
    "\n",
    "top_page_types = v[['page_type']].groupby(['page_type']).size().reset_index(name='views').nlargest(10, ['views'])['page_type']\n",
    "v_top = v[v['page_type'].isin(top_page_types)]\n",
    "v_top"
   ]
  },
  {
   "cell_type": "code",
   "execution_count": 305,
   "metadata": {
    "ExecuteTime": {
     "end_time": "2020-09-06T17:04:43.277495Z",
     "start_time": "2020-09-06T17:04:43.241305Z"
    },
    "hidden": true
   },
   "outputs": [
    {
     "data": {
      "text/html": [
       "<div>\n",
       "<style scoped>\n",
       "    .dataframe tbody tr th:only-of-type {\n",
       "        vertical-align: middle;\n",
       "    }\n",
       "\n",
       "    .dataframe tbody tr th {\n",
       "        vertical-align: top;\n",
       "    }\n",
       "\n",
       "    .dataframe thead th {\n",
       "        text-align: right;\n",
       "    }\n",
       "</style>\n",
       "<table border=\"1\" class=\"dataframe\">\n",
       "  <thead>\n",
       "    <tr style=\"text-align: right;\">\n",
       "      <th></th>\n",
       "      <th>page_type</th>\n",
       "      <th>logged_in</th>\n",
       "      <th>views</th>\n",
       "      <th>share</th>\n",
       "    </tr>\n",
       "  </thead>\n",
       "  <tbody>\n",
       "    <tr>\n",
       "      <th>0</th>\n",
       "      <td>article</td>\n",
       "      <td>False</td>\n",
       "      <td>21680</td>\n",
       "      <td>0.290142</td>\n",
       "    </tr>\n",
       "    <tr>\n",
       "      <th>1</th>\n",
       "      <td>article</td>\n",
       "      <td>True</td>\n",
       "      <td>1807</td>\n",
       "      <td>0.122152</td>\n",
       "    </tr>\n",
       "    <tr>\n",
       "      <th>2</th>\n",
       "      <td>artist</td>\n",
       "      <td>False</td>\n",
       "      <td>22955</td>\n",
       "      <td>0.307205</td>\n",
       "    </tr>\n",
       "    <tr>\n",
       "      <th>3</th>\n",
       "      <td>artist</td>\n",
       "      <td>True</td>\n",
       "      <td>3917</td>\n",
       "      <td>0.264787</td>\n",
       "    </tr>\n",
       "    <tr>\n",
       "      <th>4</th>\n",
       "      <td>artists</td>\n",
       "      <td>False</td>\n",
       "      <td>1572</td>\n",
       "      <td>0.021038</td>\n",
       "    </tr>\n",
       "    <tr>\n",
       "      <th>5</th>\n",
       "      <td>artists</td>\n",
       "      <td>True</td>\n",
       "      <td>369</td>\n",
       "      <td>0.024944</td>\n",
       "    </tr>\n",
       "    <tr>\n",
       "      <th>6</th>\n",
       "      <td>artwork</td>\n",
       "      <td>False</td>\n",
       "      <td>17777</td>\n",
       "      <td>0.237909</td>\n",
       "    </tr>\n",
       "    <tr>\n",
       "      <th>7</th>\n",
       "      <td>artwork</td>\n",
       "      <td>True</td>\n",
       "      <td>4722</td>\n",
       "      <td>0.319205</td>\n",
       "    </tr>\n",
       "    <tr>\n",
       "      <th>8</th>\n",
       "      <td>auction</td>\n",
       "      <td>False</td>\n",
       "      <td>854</td>\n",
       "      <td>0.011429</td>\n",
       "    </tr>\n",
       "    <tr>\n",
       "      <th>9</th>\n",
       "      <td>auction</td>\n",
       "      <td>True</td>\n",
       "      <td>563</td>\n",
       "      <td>0.038059</td>\n",
       "    </tr>\n",
       "    <tr>\n",
       "      <th>10</th>\n",
       "      <td>collect</td>\n",
       "      <td>False</td>\n",
       "      <td>1317</td>\n",
       "      <td>0.017625</td>\n",
       "    </tr>\n",
       "    <tr>\n",
       "      <th>11</th>\n",
       "      <td>collect</td>\n",
       "      <td>True</td>\n",
       "      <td>327</td>\n",
       "      <td>0.022105</td>\n",
       "    </tr>\n",
       "    <tr>\n",
       "      <th>12</th>\n",
       "      <td>gene</td>\n",
       "      <td>False</td>\n",
       "      <td>1287</td>\n",
       "      <td>0.017224</td>\n",
       "    </tr>\n",
       "    <tr>\n",
       "      <th>13</th>\n",
       "      <td>gene</td>\n",
       "      <td>True</td>\n",
       "      <td>155</td>\n",
       "      <td>0.010478</td>\n",
       "    </tr>\n",
       "    <tr>\n",
       "      <th>14</th>\n",
       "      <td>homepage</td>\n",
       "      <td>False</td>\n",
       "      <td>2914</td>\n",
       "      <td>0.038998</td>\n",
       "    </tr>\n",
       "    <tr>\n",
       "      <th>15</th>\n",
       "      <td>homepage</td>\n",
       "      <td>True</td>\n",
       "      <td>1369</td>\n",
       "      <td>0.092544</td>\n",
       "    </tr>\n",
       "    <tr>\n",
       "      <th>16</th>\n",
       "      <td>search</td>\n",
       "      <td>False</td>\n",
       "      <td>1790</td>\n",
       "      <td>0.023955</td>\n",
       "    </tr>\n",
       "    <tr>\n",
       "      <th>17</th>\n",
       "      <td>search</td>\n",
       "      <td>True</td>\n",
       "      <td>813</td>\n",
       "      <td>0.054958</td>\n",
       "    </tr>\n",
       "    <tr>\n",
       "      <th>18</th>\n",
       "      <td>show</td>\n",
       "      <td>False</td>\n",
       "      <td>2576</td>\n",
       "      <td>0.034474</td>\n",
       "    </tr>\n",
       "    <tr>\n",
       "      <th>19</th>\n",
       "      <td>show</td>\n",
       "      <td>True</td>\n",
       "      <td>751</td>\n",
       "      <td>0.050767</td>\n",
       "    </tr>\n",
       "  </tbody>\n",
       "</table>\n",
       "</div>"
      ],
      "text/plain": [
       "   page_type  logged_in  views     share\n",
       "0    article      False  21680  0.290142\n",
       "1    article       True   1807  0.122152\n",
       "2     artist      False  22955  0.307205\n",
       "3     artist       True   3917  0.264787\n",
       "4    artists      False   1572  0.021038\n",
       "5    artists       True    369  0.024944\n",
       "6    artwork      False  17777  0.237909\n",
       "7    artwork       True   4722  0.319205\n",
       "8    auction      False    854  0.011429\n",
       "9    auction       True    563  0.038059\n",
       "10   collect      False   1317  0.017625\n",
       "11   collect       True    327  0.022105\n",
       "12      gene      False   1287  0.017224\n",
       "13      gene       True    155  0.010478\n",
       "14  homepage      False   2914  0.038998\n",
       "15  homepage       True   1369  0.092544\n",
       "16    search      False   1790  0.023955\n",
       "17    search       True    813  0.054958\n",
       "18      show      False   2576  0.034474\n",
       "19      show       True    751  0.050767"
      ]
     },
     "execution_count": 305,
     "metadata": {},
     "output_type": "execute_result"
    }
   ],
   "source": [
    "## Share of Page Type views per logged status\n",
    "\n",
    "v_in_total = len(v_top[v_top.logged_in==1])\n",
    "v_out_total = len(v_top[v_top.logged_in==0])\n",
    "\n",
    "v_log = v_top[['page_type','logged_in']].groupby(['page_type','logged_in']).size().reset_index(name='views')\n",
    "v_log['share'] = v_log.apply(lambda t: t['views']/v_in_total  if t['logged_in'] else t['views']/v_out_total, axis=1)\n",
    "\n",
    "v_log"
   ]
  },
  {
   "cell_type": "code",
   "execution_count": 306,
   "metadata": {
    "ExecuteTime": {
     "end_time": "2020-09-06T17:05:27.544918Z",
     "start_time": "2020-09-06T17:05:27.527558Z"
    },
    "hidden": true
   },
   "outputs": [
    {
     "data": {
      "text/html": [
       "<div>\n",
       "<style scoped>\n",
       "    .dataframe tbody tr th:only-of-type {\n",
       "        vertical-align: middle;\n",
       "    }\n",
       "\n",
       "    .dataframe tbody tr th {\n",
       "        vertical-align: top;\n",
       "    }\n",
       "\n",
       "    .dataframe thead th {\n",
       "        text-align: right;\n",
       "    }\n",
       "</style>\n",
       "<table border=\"1\" class=\"dataframe\">\n",
       "  <thead>\n",
       "    <tr style=\"text-align: right;\">\n",
       "      <th>page_type</th>\n",
       "      <th>article</th>\n",
       "      <th>artist</th>\n",
       "      <th>artists</th>\n",
       "      <th>artwork</th>\n",
       "      <th>auction</th>\n",
       "      <th>collect</th>\n",
       "      <th>gene</th>\n",
       "      <th>homepage</th>\n",
       "      <th>search</th>\n",
       "      <th>show</th>\n",
       "    </tr>\n",
       "    <tr>\n",
       "      <th>logged_in</th>\n",
       "      <th></th>\n",
       "      <th></th>\n",
       "      <th></th>\n",
       "      <th></th>\n",
       "      <th></th>\n",
       "      <th></th>\n",
       "      <th></th>\n",
       "      <th></th>\n",
       "      <th></th>\n",
       "      <th></th>\n",
       "    </tr>\n",
       "  </thead>\n",
       "  <tbody>\n",
       "    <tr>\n",
       "      <th>False</th>\n",
       "      <td>0.290142</td>\n",
       "      <td>0.307205</td>\n",
       "      <td>0.021038</td>\n",
       "      <td>0.237909</td>\n",
       "      <td>0.011429</td>\n",
       "      <td>0.017625</td>\n",
       "      <td>0.017224</td>\n",
       "      <td>0.038998</td>\n",
       "      <td>0.023955</td>\n",
       "      <td>0.034474</td>\n",
       "    </tr>\n",
       "    <tr>\n",
       "      <th>True</th>\n",
       "      <td>0.122152</td>\n",
       "      <td>0.264787</td>\n",
       "      <td>0.024944</td>\n",
       "      <td>0.319205</td>\n",
       "      <td>0.038059</td>\n",
       "      <td>0.022105</td>\n",
       "      <td>0.010478</td>\n",
       "      <td>0.092544</td>\n",
       "      <td>0.054958</td>\n",
       "      <td>0.050767</td>\n",
       "    </tr>\n",
       "  </tbody>\n",
       "</table>\n",
       "</div>"
      ],
      "text/plain": [
       "page_type   article    artist   artists   artwork   auction   collect  \\\n",
       "logged_in                                                               \n",
       "False      0.290142  0.307205  0.021038  0.237909  0.011429  0.017625   \n",
       "True       0.122152  0.264787  0.024944  0.319205  0.038059  0.022105   \n",
       "\n",
       "page_type      gene  homepage    search      show  \n",
       "logged_in                                          \n",
       "False      0.017224  0.038998  0.023955  0.034474  \n",
       "True       0.010478  0.092544  0.054958  0.050767  "
      ]
     },
     "execution_count": 306,
     "metadata": {},
     "output_type": "execute_result"
    }
   ],
   "source": [
    "## Change DF to show a stacked column chart\n",
    "\n",
    "pivot_df = v_log.pivot(index='logged_in', columns='page_type', values='share')\n",
    "pivot_df = pivot_df.fillna(0)\n",
    "pivot_df"
   ]
  },
  {
   "cell_type": "code",
   "execution_count": 307,
   "metadata": {
    "ExecuteTime": {
     "end_time": "2020-09-06T17:05:45.990495Z",
     "start_time": "2020-09-06T17:05:45.727721Z"
    },
    "hidden": true
   },
   "outputs": [
    {
     "data": {
      "text/plain": [
       "<matplotlib.axes._subplots.AxesSubplot at 0x7fd73ff33690>"
      ]
     },
     "execution_count": 307,
     "metadata": {},
     "output_type": "execute_result"
    },
    {
     "data": {
      "image/png": "[encoded data removed]",
      "text/plain": [
       "<Figure size 432x288 with 1 Axes>"
      ]
     },
     "metadata": {
      "needs_background": "light"
     },
     "output_type": "display_data"
    }
   ],
   "source": [
    "pivot_df.plot.bar(stacked=True)"
   ]
  },
  {
   "cell_type": "markdown",
   "metadata": {
    "hidden": true
   },
   "source": [
    "- What are some observations you can make about users' behavior on Artsy?"
   ]
  },
  {
   "cell_type": "code",
   "execution_count": 317,
   "metadata": {
    "ExecuteTime": {
     "end_time": "2020-09-06T19:51:18.747915Z",
     "start_time": "2020-09-06T19:51:18.679025Z"
    },
    "hidden": true
   },
   "outputs": [
    {
     "data": {
      "text/html": [
       "<div>\n",
       "<style scoped>\n",
       "    .dataframe tbody tr th:only-of-type {\n",
       "        vertical-align: middle;\n",
       "    }\n",
       "\n",
       "    .dataframe tbody tr th {\n",
       "        vertical-align: top;\n",
       "    }\n",
       "\n",
       "    .dataframe thead th {\n",
       "        text-align: right;\n",
       "    }\n",
       "</style>\n",
       "<table border=\"1\" class=\"dataframe\">\n",
       "  <thead>\n",
       "    <tr style=\"text-align: right;\">\n",
       "      <th></th>\n",
       "      <th>anonymous_id</th>\n",
       "      <th>logged_in</th>\n",
       "      <th>received_at</th>\n",
       "      <th>path</th>\n",
       "      <th>referrer</th>\n",
       "      <th>page_type</th>\n",
       "      <th>referrer_page_type</th>\n",
       "    </tr>\n",
       "  </thead>\n",
       "  <tbody>\n",
       "    <tr>\n",
       "      <th>0</th>\n",
       "      <td>ad31b961-d67f-497c-9def-9193d518863a</td>\n",
       "      <td>False</td>\n",
       "      <td>2017-03-12 18:23:28.241</td>\n",
       "      <td>/artist/anish-kapoor</td>\n",
       "      <td>http://m.facebook.com</td>\n",
       "      <td>artist</td>\n",
       "      <td>m.facebook.com</td>\n",
       "    </tr>\n",
       "    <tr>\n",
       "      <th>1</th>\n",
       "      <td>dd14cc5c-f31a-4591-974d-1233346b1999</td>\n",
       "      <td>False</td>\n",
       "      <td>2017-03-20 20:36:32.177</td>\n",
       "      <td>/artwork/vernon-fisher-happy-family</td>\n",
       "      <td>others</td>\n",
       "      <td>artwork</td>\n",
       "      <td>others</td>\n",
       "    </tr>\n",
       "    <tr>\n",
       "      <th>2</th>\n",
       "      <td>9b459a76-aaa3-44cd-9f0e-af7fb9829b2c</td>\n",
       "      <td>False</td>\n",
       "      <td>2017-03-14 05:19:47.852</td>\n",
       "      <td>/article/francesca-gavin-10-new-artists-to-wat...</td>\n",
       "      <td>https://www.google.ge/</td>\n",
       "      <td>article</td>\n",
       "      <td>www.google.ge</td>\n",
       "    </tr>\n",
       "    <tr>\n",
       "      <th>3</th>\n",
       "      <td>cb745df7-c90d-4339-9519-960081515b8c</td>\n",
       "      <td>False</td>\n",
       "      <td>2017-03-14 02:50:29.697</td>\n",
       "      <td>/article/artsy-editorial-8-female-surrealists-...</td>\n",
       "      <td>https://l.facebook.com/l.php?u=https%3A%2F%2Fw...</td>\n",
       "      <td>article</td>\n",
       "      <td>l.facebook.com</td>\n",
       "    </tr>\n",
       "    <tr>\n",
       "      <th>4</th>\n",
       "      <td>8b18968d-4e51-4e00-b60c-d80b1ad6a55c</td>\n",
       "      <td>False</td>\n",
       "      <td>2017-03-15 09:07:07.436</td>\n",
       "      <td>/article/artsy-editorial-why-these-7-artists-q...</td>\n",
       "      <td>https://www.facebook.com/</td>\n",
       "      <td>article</td>\n",
       "      <td>www.facebook.com</td>\n",
       "    </tr>\n",
       "    <tr>\n",
       "      <th>...</th>\n",
       "      <td>...</td>\n",
       "      <td>...</td>\n",
       "      <td>...</td>\n",
       "      <td>...</td>\n",
       "      <td>...</td>\n",
       "      <td>...</td>\n",
       "      <td>...</td>\n",
       "    </tr>\n",
       "    <tr>\n",
       "      <th>99995</th>\n",
       "      <td>d3916f78-16ec-4614-af92-8a29640566ce</td>\n",
       "      <td>True</td>\n",
       "      <td>2017-03-12 15:50:04.295</td>\n",
       "      <td>homepage</td>\n",
       "      <td>others</td>\n",
       "      <td>homepage</td>\n",
       "      <td>others</td>\n",
       "    </tr>\n",
       "    <tr>\n",
       "      <th>99996</th>\n",
       "      <td>fc6a5da2-0cc0-42f2-9040-74498c50f569</td>\n",
       "      <td>False</td>\n",
       "      <td>2017-03-23 11:11:23.208</td>\n",
       "      <td>/artists/artists-starting-with-s</td>\n",
       "      <td>https://www.artsy.net/artists/artists-starting...</td>\n",
       "      <td>artists</td>\n",
       "      <td>www.artsy.net</td>\n",
       "    </tr>\n",
       "    <tr>\n",
       "      <th>99997</th>\n",
       "      <td>66948dd7-836b-4770-9ca4-719096c621ee</td>\n",
       "      <td>True</td>\n",
       "      <td>2017-03-13 11:27:32.482</td>\n",
       "      <td>/artwork/jean-baptiste-bernadet-untitled-vetiv...</td>\n",
       "      <td>https://www.artsy.net/artist/jean-baptiste-ber...</td>\n",
       "      <td>artwork</td>\n",
       "      <td>www.artsy.net</td>\n",
       "    </tr>\n",
       "    <tr>\n",
       "      <th>99998</th>\n",
       "      <td>cca44d19-d759-493a-a59e-0ef13ac4f129</td>\n",
       "      <td>False</td>\n",
       "      <td>2017-03-21 10:33:02.154</td>\n",
       "      <td>/jobs</td>\n",
       "      <td>https://www.artsy.net/</td>\n",
       "      <td>jobs</td>\n",
       "      <td>www.artsy.net</td>\n",
       "    </tr>\n",
       "    <tr>\n",
       "      <th>99999</th>\n",
       "      <td>5ab821d1-712a-4aec-a453-f20288648dc7</td>\n",
       "      <td>False</td>\n",
       "      <td>2017-03-15 15:11:50.990</td>\n",
       "      <td>/artwork/enrico-donati-le-crepuscole-et-la-cite</td>\n",
       "      <td>https://www.artsy.net/artist/enrico-donati</td>\n",
       "      <td>artwork</td>\n",
       "      <td>www.artsy.net</td>\n",
       "    </tr>\n",
       "  </tbody>\n",
       "</table>\n",
       "<p>100000 rows × 7 columns</p>\n",
       "</div>"
      ],
      "text/plain": [
       "                               anonymous_id  logged_in  \\\n",
       "0      ad31b961-d67f-497c-9def-9193d518863a      False   \n",
       "1      dd14cc5c-f31a-4591-974d-1233346b1999      False   \n",
       "2      9b459a76-aaa3-44cd-9f0e-af7fb9829b2c      False   \n",
       "3      cb745df7-c90d-4339-9519-960081515b8c      False   \n",
       "4      8b18968d-4e51-4e00-b60c-d80b1ad6a55c      False   \n",
       "...                                     ...        ...   \n",
       "99995  d3916f78-16ec-4614-af92-8a29640566ce       True   \n",
       "99996  fc6a5da2-0cc0-42f2-9040-74498c50f569      False   \n",
       "99997  66948dd7-836b-4770-9ca4-719096c621ee       True   \n",
       "99998  cca44d19-d759-493a-a59e-0ef13ac4f129      False   \n",
       "99999  5ab821d1-712a-4aec-a453-f20288648dc7      False   \n",
       "\n",
       "                  received_at  \\\n",
       "0     2017-03-12 18:23:28.241   \n",
       "1     2017-03-20 20:36:32.177   \n",
       "2     2017-03-14 05:19:47.852   \n",
       "3     2017-03-14 02:50:29.697   \n",
       "4     2017-03-15 09:07:07.436   \n",
       "...                       ...   \n",
       "99995 2017-03-12 15:50:04.295   \n",
       "99996 2017-03-23 11:11:23.208   \n",
       "99997 2017-03-13 11:27:32.482   \n",
       "99998 2017-03-21 10:33:02.154   \n",
       "99999 2017-03-15 15:11:50.990   \n",
       "\n",
       "                                                    path  \\\n",
       "0                                   /artist/anish-kapoor   \n",
       "1                    /artwork/vernon-fisher-happy-family   \n",
       "2      /article/francesca-gavin-10-new-artists-to-wat...   \n",
       "3      /article/artsy-editorial-8-female-surrealists-...   \n",
       "4      /article/artsy-editorial-why-these-7-artists-q...   \n",
       "...                                                  ...   \n",
       "99995                                           homepage   \n",
       "99996                   /artists/artists-starting-with-s   \n",
       "99997  /artwork/jean-baptiste-bernadet-untitled-vetiv...   \n",
       "99998                                              /jobs   \n",
       "99999    /artwork/enrico-donati-le-crepuscole-et-la-cite   \n",
       "\n",
       "                                                referrer page_type  \\\n",
       "0                                  http://m.facebook.com    artist   \n",
       "1                                                 others   artwork   \n",
       "2                                 https://www.google.ge/   article   \n",
       "3      https://l.facebook.com/l.php?u=https%3A%2F%2Fw...   article   \n",
       "4                              https://www.facebook.com/   article   \n",
       "...                                                  ...       ...   \n",
       "99995                                             others  homepage   \n",
       "99996  https://www.artsy.net/artists/artists-starting...   artists   \n",
       "99997  https://www.artsy.net/artist/jean-baptiste-ber...   artwork   \n",
       "99998                             https://www.artsy.net/      jobs   \n",
       "99999         https://www.artsy.net/artist/enrico-donati   artwork   \n",
       "\n",
       "      referrer_page_type  \n",
       "0         m.facebook.com  \n",
       "1                 others  \n",
       "2          www.google.ge  \n",
       "3         l.facebook.com  \n",
       "4       www.facebook.com  \n",
       "...                  ...  \n",
       "99995             others  \n",
       "99996      www.artsy.net  \n",
       "99997      www.artsy.net  \n",
       "99998      www.artsy.net  \n",
       "99999      www.artsy.net  \n",
       "\n",
       "[100000 rows x 7 columns]"
      ]
     },
     "execution_count": 317,
     "metadata": {},
     "output_type": "execute_result"
    }
   ],
   "source": [
    "## Doing the same analysis as before for the referrer page type\n",
    "v['referrer_page_type'] = v.referrer.map(lambda t:  t if t=='others' else t.split('/')[2])\n",
    "v"
   ]
  },
  {
   "cell_type": "code",
   "execution_count": 319,
   "metadata": {
    "ExecuteTime": {
     "end_time": "2020-09-06T19:51:42.334438Z",
     "start_time": "2020-09-06T19:51:42.296360Z"
    },
    "hidden": true
   },
   "outputs": [
    {
     "data": {
      "text/plain": [
       "0.88759"
      ]
     },
     "execution_count": 319,
     "metadata": {},
     "output_type": "execute_result"
    }
   ],
   "source": [
    "## ~89% of the pageviews come from the first 10 referrer page types\n",
    "v.groupby('referrer_page_type').size().nlargest(10).sum()/len(v)"
   ]
  },
  {
   "cell_type": "code",
   "execution_count": 320,
   "metadata": {
    "ExecuteTime": {
     "end_time": "2020-09-06T19:51:49.368712Z",
     "start_time": "2020-09-06T19:51:49.355777Z"
    },
    "hidden": true
   },
   "outputs": [
    {
     "data": {
      "text/plain": [
       "referrer_page_type\n",
       "www.artsy.net        44682\n",
       "others               19965\n",
       "www.google.com        9448\n",
       "m.facebook.com        4820\n",
       "www.facebook.com      4645\n",
       "www.google.co.uk      2248\n",
       "www.google.com.au     1026\n",
       "www.google.ca          814\n",
       "www.google.fr          601\n",
       "www.google.de          510\n",
       "dtype: int64"
      ]
     },
     "execution_count": 320,
     "metadata": {},
     "output_type": "execute_result"
    }
   ],
   "source": [
    "v.groupby('referrer_page_type').size().nlargest(10)"
   ]
  },
  {
   "cell_type": "code",
   "execution_count": 322,
   "metadata": {
    "ExecuteTime": {
     "end_time": "2020-09-07T06:56:31.701794Z",
     "start_time": "2020-09-07T06:56:31.654038Z"
    },
    "hidden": true
   },
   "outputs": [
    {
     "data": {
      "text/html": [
       "<div>\n",
       "<style scoped>\n",
       "    .dataframe tbody tr th:only-of-type {\n",
       "        vertical-align: middle;\n",
       "    }\n",
       "\n",
       "    .dataframe tbody tr th {\n",
       "        vertical-align: top;\n",
       "    }\n",
       "\n",
       "    .dataframe thead th {\n",
       "        text-align: right;\n",
       "    }\n",
       "</style>\n",
       "<table border=\"1\" class=\"dataframe\">\n",
       "  <thead>\n",
       "    <tr style=\"text-align: right;\">\n",
       "      <th></th>\n",
       "      <th>anonymous_id</th>\n",
       "      <th>logged_in</th>\n",
       "      <th>received_at</th>\n",
       "      <th>path</th>\n",
       "      <th>referrer</th>\n",
       "      <th>page_type</th>\n",
       "      <th>referrer_page_type</th>\n",
       "      <th>referrer_page_type_group</th>\n",
       "    </tr>\n",
       "  </thead>\n",
       "  <tbody>\n",
       "    <tr>\n",
       "      <th>0</th>\n",
       "      <td>ad31b961-d67f-497c-9def-9193d518863a</td>\n",
       "      <td>False</td>\n",
       "      <td>2017-03-12 18:23:28.241</td>\n",
       "      <td>/artist/anish-kapoor</td>\n",
       "      <td>http://m.facebook.com</td>\n",
       "      <td>artist</td>\n",
       "      <td>m.facebook.com</td>\n",
       "      <td>m.facebook.com</td>\n",
       "    </tr>\n",
       "    <tr>\n",
       "      <th>1</th>\n",
       "      <td>dd14cc5c-f31a-4591-974d-1233346b1999</td>\n",
       "      <td>False</td>\n",
       "      <td>2017-03-20 20:36:32.177</td>\n",
       "      <td>/artwork/vernon-fisher-happy-family</td>\n",
       "      <td>others</td>\n",
       "      <td>artwork</td>\n",
       "      <td>others</td>\n",
       "      <td>others</td>\n",
       "    </tr>\n",
       "    <tr>\n",
       "      <th>2</th>\n",
       "      <td>9b459a76-aaa3-44cd-9f0e-af7fb9829b2c</td>\n",
       "      <td>False</td>\n",
       "      <td>2017-03-14 05:19:47.852</td>\n",
       "      <td>/article/francesca-gavin-10-new-artists-to-wat...</td>\n",
       "      <td>https://www.google.ge/</td>\n",
       "      <td>article</td>\n",
       "      <td>www.google.ge</td>\n",
       "      <td>www.google.ge</td>\n",
       "    </tr>\n",
       "    <tr>\n",
       "      <th>3</th>\n",
       "      <td>cb745df7-c90d-4339-9519-960081515b8c</td>\n",
       "      <td>False</td>\n",
       "      <td>2017-03-14 02:50:29.697</td>\n",
       "      <td>/article/artsy-editorial-8-female-surrealists-...</td>\n",
       "      <td>https://l.facebook.com/l.php?u=https%3A%2F%2Fw...</td>\n",
       "      <td>article</td>\n",
       "      <td>l.facebook.com</td>\n",
       "      <td>l.facebook.com</td>\n",
       "    </tr>\n",
       "    <tr>\n",
       "      <th>4</th>\n",
       "      <td>8b18968d-4e51-4e00-b60c-d80b1ad6a55c</td>\n",
       "      <td>False</td>\n",
       "      <td>2017-03-15 09:07:07.436</td>\n",
       "      <td>/article/artsy-editorial-why-these-7-artists-q...</td>\n",
       "      <td>https://www.facebook.com/</td>\n",
       "      <td>article</td>\n",
       "      <td>www.facebook.com</td>\n",
       "      <td>www.facebook.com</td>\n",
       "    </tr>\n",
       "    <tr>\n",
       "      <th>...</th>\n",
       "      <td>...</td>\n",
       "      <td>...</td>\n",
       "      <td>...</td>\n",
       "      <td>...</td>\n",
       "      <td>...</td>\n",
       "      <td>...</td>\n",
       "      <td>...</td>\n",
       "      <td>...</td>\n",
       "    </tr>\n",
       "    <tr>\n",
       "      <th>99995</th>\n",
       "      <td>d3916f78-16ec-4614-af92-8a29640566ce</td>\n",
       "      <td>True</td>\n",
       "      <td>2017-03-12 15:50:04.295</td>\n",
       "      <td>homepage</td>\n",
       "      <td>others</td>\n",
       "      <td>homepage</td>\n",
       "      <td>others</td>\n",
       "      <td>others</td>\n",
       "    </tr>\n",
       "    <tr>\n",
       "      <th>99996</th>\n",
       "      <td>fc6a5da2-0cc0-42f2-9040-74498c50f569</td>\n",
       "      <td>False</td>\n",
       "      <td>2017-03-23 11:11:23.208</td>\n",
       "      <td>/artists/artists-starting-with-s</td>\n",
       "      <td>https://www.artsy.net/artists/artists-starting...</td>\n",
       "      <td>artists</td>\n",
       "      <td>www.artsy.net</td>\n",
       "      <td>www.artsy.net</td>\n",
       "    </tr>\n",
       "    <tr>\n",
       "      <th>99997</th>\n",
       "      <td>66948dd7-836b-4770-9ca4-719096c621ee</td>\n",
       "      <td>True</td>\n",
       "      <td>2017-03-13 11:27:32.482</td>\n",
       "      <td>/artwork/jean-baptiste-bernadet-untitled-vetiv...</td>\n",
       "      <td>https://www.artsy.net/artist/jean-baptiste-ber...</td>\n",
       "      <td>artwork</td>\n",
       "      <td>www.artsy.net</td>\n",
       "      <td>www.artsy.net</td>\n",
       "    </tr>\n",
       "    <tr>\n",
       "      <th>99998</th>\n",
       "      <td>cca44d19-d759-493a-a59e-0ef13ac4f129</td>\n",
       "      <td>False</td>\n",
       "      <td>2017-03-21 10:33:02.154</td>\n",
       "      <td>/jobs</td>\n",
       "      <td>https://www.artsy.net/</td>\n",
       "      <td>jobs</td>\n",
       "      <td>www.artsy.net</td>\n",
       "      <td>www.artsy.net</td>\n",
       "    </tr>\n",
       "    <tr>\n",
       "      <th>99999</th>\n",
       "      <td>5ab821d1-712a-4aec-a453-f20288648dc7</td>\n",
       "      <td>False</td>\n",
       "      <td>2017-03-15 15:11:50.990</td>\n",
       "      <td>/artwork/enrico-donati-le-crepuscole-et-la-cite</td>\n",
       "      <td>https://www.artsy.net/artist/enrico-donati</td>\n",
       "      <td>artwork</td>\n",
       "      <td>www.artsy.net</td>\n",
       "      <td>www.artsy.net</td>\n",
       "    </tr>\n",
       "  </tbody>\n",
       "</table>\n",
       "<p>100000 rows × 8 columns</p>\n",
       "</div>"
      ],
      "text/plain": [
       "                               anonymous_id  logged_in  \\\n",
       "0      ad31b961-d67f-497c-9def-9193d518863a      False   \n",
       "1      dd14cc5c-f31a-4591-974d-1233346b1999      False   \n",
       "2      9b459a76-aaa3-44cd-9f0e-af7fb9829b2c      False   \n",
       "3      cb745df7-c90d-4339-9519-960081515b8c      False   \n",
       "4      8b18968d-4e51-4e00-b60c-d80b1ad6a55c      False   \n",
       "...                                     ...        ...   \n",
       "99995  d3916f78-16ec-4614-af92-8a29640566ce       True   \n",
       "99996  fc6a5da2-0cc0-42f2-9040-74498c50f569      False   \n",
       "99997  66948dd7-836b-4770-9ca4-719096c621ee       True   \n",
       "99998  cca44d19-d759-493a-a59e-0ef13ac4f129      False   \n",
       "99999  5ab821d1-712a-4aec-a453-f20288648dc7      False   \n",
       "\n",
       "                  received_at  \\\n",
       "0     2017-03-12 18:23:28.241   \n",
       "1     2017-03-20 20:36:32.177   \n",
       "2     2017-03-14 05:19:47.852   \n",
       "3     2017-03-14 02:50:29.697   \n",
       "4     2017-03-15 09:07:07.436   \n",
       "...                       ...   \n",
       "99995 2017-03-12 15:50:04.295   \n",
       "99996 2017-03-23 11:11:23.208   \n",
       "99997 2017-03-13 11:27:32.482   \n",
       "99998 2017-03-21 10:33:02.154   \n",
       "99999 2017-03-15 15:11:50.990   \n",
       "\n",
       "                                                    path  \\\n",
       "0                                   /artist/anish-kapoor   \n",
       "1                    /artwork/vernon-fisher-happy-family   \n",
       "2      /article/francesca-gavin-10-new-artists-to-wat...   \n",
       "3      /article/artsy-editorial-8-female-surrealists-...   \n",
       "4      /article/artsy-editorial-why-these-7-artists-q...   \n",
       "...                                                  ...   \n",
       "99995                                           homepage   \n",
       "99996                   /artists/artists-starting-with-s   \n",
       "99997  /artwork/jean-baptiste-bernadet-untitled-vetiv...   \n",
       "99998                                              /jobs   \n",
       "99999    /artwork/enrico-donati-le-crepuscole-et-la-cite   \n",
       "\n",
       "                                                referrer page_type  \\\n",
       "0                                  http://m.facebook.com    artist   \n",
       "1                                                 others   artwork   \n",
       "2                                 https://www.google.ge/   article   \n",
       "3      https://l.facebook.com/l.php?u=https%3A%2F%2Fw...   article   \n",
       "4                              https://www.facebook.com/   article   \n",
       "...                                                  ...       ...   \n",
       "99995                                             others  homepage   \n",
       "99996  https://www.artsy.net/artists/artists-starting...   artists   \n",
       "99997  https://www.artsy.net/artist/jean-baptiste-ber...   artwork   \n",
       "99998                             https://www.artsy.net/      jobs   \n",
       "99999         https://www.artsy.net/artist/enrico-donati   artwork   \n",
       "\n",
       "      referrer_page_type referrer_page_type_group  \n",
       "0         m.facebook.com           m.facebook.com  \n",
       "1                 others                   others  \n",
       "2          www.google.ge            www.google.ge  \n",
       "3         l.facebook.com           l.facebook.com  \n",
       "4       www.facebook.com         www.facebook.com  \n",
       "...                  ...                      ...  \n",
       "99995             others                   others  \n",
       "99996      www.artsy.net            www.artsy.net  \n",
       "99997      www.artsy.net            www.artsy.net  \n",
       "99998      www.artsy.net            www.artsy.net  \n",
       "99999      www.artsy.net            www.artsy.net  \n",
       "\n",
       "[100000 rows x 8 columns]"
      ]
     },
     "execution_count": 322,
     "metadata": {},
     "output_type": "execute_result"
    }
   ],
   "source": [
    "v['referrer_page_type_group'] = v.referrer_page_type.map(lambda t:  t if not t.startswith('.') else t.split('.')[1])\n",
    "v"
   ]
  },
  {
   "cell_type": "code",
   "execution_count": 332,
   "metadata": {
    "ExecuteTime": {
     "end_time": "2020-09-07T07:59:35.425667Z",
     "start_time": "2020-09-07T07:59:35.303697Z"
    },
    "hidden": true
   },
   "outputs": [
    {
     "name": "stderr",
     "output_type": "stream",
     "text": [
      "/opt/conda/lib/python3.7/site-packages/ipykernel_launcher.py:3: SettingWithCopyWarning:\n",
      "\n",
      "\n",
      "A value is trying to be set on a copy of a slice from a DataFrame.\n",
      "Try using .loc[row_indexer,col_indexer] = value instead\n",
      "\n",
      "See the caveats in the documentation: http://pandas.pydata.org/pandas-docs/stable/user_guide/indexing.html#returning-a-view-versus-a-copy\n",
      "\n"
     ]
    },
    {
     "data": {
      "text/html": [
       "<div>\n",
       "<style scoped>\n",
       "    .dataframe tbody tr th:only-of-type {\n",
       "        vertical-align: middle;\n",
       "    }\n",
       "\n",
       "    .dataframe tbody tr th {\n",
       "        vertical-align: top;\n",
       "    }\n",
       "\n",
       "    .dataframe thead th {\n",
       "        text-align: right;\n",
       "    }\n",
       "</style>\n",
       "<table border=\"1\" class=\"dataframe\">\n",
       "  <thead>\n",
       "    <tr style=\"text-align: right;\">\n",
       "      <th></th>\n",
       "      <th>anonymous_id</th>\n",
       "      <th>logged_in</th>\n",
       "      <th>received_at</th>\n",
       "      <th>path</th>\n",
       "      <th>referrer</th>\n",
       "      <th>page_type</th>\n",
       "      <th>referrer_page_type</th>\n",
       "      <th>referrer_page_type_group</th>\n",
       "    </tr>\n",
       "  </thead>\n",
       "  <tbody>\n",
       "    <tr>\n",
       "      <th>0</th>\n",
       "      <td>ad31b961-d67f-497c-9def-9193d518863a</td>\n",
       "      <td>False</td>\n",
       "      <td>2017-03-12 18:23:28.241</td>\n",
       "      <td>/artist/anish-kapoor</td>\n",
       "      <td>http://m.facebook.com</td>\n",
       "      <td>artist</td>\n",
       "      <td>m.facebook.com</td>\n",
       "      <td>facebook</td>\n",
       "    </tr>\n",
       "    <tr>\n",
       "      <th>1</th>\n",
       "      <td>dd14cc5c-f31a-4591-974d-1233346b1999</td>\n",
       "      <td>False</td>\n",
       "      <td>2017-03-20 20:36:32.177</td>\n",
       "      <td>/artwork/vernon-fisher-happy-family</td>\n",
       "      <td>others</td>\n",
       "      <td>artwork</td>\n",
       "      <td>others</td>\n",
       "      <td>others</td>\n",
       "    </tr>\n",
       "    <tr>\n",
       "      <th>2</th>\n",
       "      <td>9b459a76-aaa3-44cd-9f0e-af7fb9829b2c</td>\n",
       "      <td>False</td>\n",
       "      <td>2017-03-14 05:19:47.852</td>\n",
       "      <td>/article/francesca-gavin-10-new-artists-to-wat...</td>\n",
       "      <td>https://www.google.ge/</td>\n",
       "      <td>article</td>\n",
       "      <td>www.google.ge</td>\n",
       "      <td>google</td>\n",
       "    </tr>\n",
       "    <tr>\n",
       "      <th>3</th>\n",
       "      <td>cb745df7-c90d-4339-9519-960081515b8c</td>\n",
       "      <td>False</td>\n",
       "      <td>2017-03-14 02:50:29.697</td>\n",
       "      <td>/article/artsy-editorial-8-female-surrealists-...</td>\n",
       "      <td>https://l.facebook.com/l.php?u=https%3A%2F%2Fw...</td>\n",
       "      <td>article</td>\n",
       "      <td>l.facebook.com</td>\n",
       "      <td>facebook</td>\n",
       "    </tr>\n",
       "    <tr>\n",
       "      <th>4</th>\n",
       "      <td>8b18968d-4e51-4e00-b60c-d80b1ad6a55c</td>\n",
       "      <td>False</td>\n",
       "      <td>2017-03-15 09:07:07.436</td>\n",
       "      <td>/article/artsy-editorial-why-these-7-artists-q...</td>\n",
       "      <td>https://www.facebook.com/</td>\n",
       "      <td>article</td>\n",
       "      <td>www.facebook.com</td>\n",
       "      <td>facebook</td>\n",
       "    </tr>\n",
       "    <tr>\n",
       "      <th>...</th>\n",
       "      <td>...</td>\n",
       "      <td>...</td>\n",
       "      <td>...</td>\n",
       "      <td>...</td>\n",
       "      <td>...</td>\n",
       "      <td>...</td>\n",
       "      <td>...</td>\n",
       "      <td>...</td>\n",
       "    </tr>\n",
       "    <tr>\n",
       "      <th>99995</th>\n",
       "      <td>d3916f78-16ec-4614-af92-8a29640566ce</td>\n",
       "      <td>True</td>\n",
       "      <td>2017-03-12 15:50:04.295</td>\n",
       "      <td>homepage</td>\n",
       "      <td>others</td>\n",
       "      <td>homepage</td>\n",
       "      <td>others</td>\n",
       "      <td>others</td>\n",
       "    </tr>\n",
       "    <tr>\n",
       "      <th>99996</th>\n",
       "      <td>fc6a5da2-0cc0-42f2-9040-74498c50f569</td>\n",
       "      <td>False</td>\n",
       "      <td>2017-03-23 11:11:23.208</td>\n",
       "      <td>/artists/artists-starting-with-s</td>\n",
       "      <td>https://www.artsy.net/artists/artists-starting...</td>\n",
       "      <td>artists</td>\n",
       "      <td>www.artsy.net</td>\n",
       "      <td>artsy</td>\n",
       "    </tr>\n",
       "    <tr>\n",
       "      <th>99997</th>\n",
       "      <td>66948dd7-836b-4770-9ca4-719096c621ee</td>\n",
       "      <td>True</td>\n",
       "      <td>2017-03-13 11:27:32.482</td>\n",
       "      <td>/artwork/jean-baptiste-bernadet-untitled-vetiv...</td>\n",
       "      <td>https://www.artsy.net/artist/jean-baptiste-ber...</td>\n",
       "      <td>artwork</td>\n",
       "      <td>www.artsy.net</td>\n",
       "      <td>artsy</td>\n",
       "    </tr>\n",
       "    <tr>\n",
       "      <th>99998</th>\n",
       "      <td>cca44d19-d759-493a-a59e-0ef13ac4f129</td>\n",
       "      <td>False</td>\n",
       "      <td>2017-03-21 10:33:02.154</td>\n",
       "      <td>/jobs</td>\n",
       "      <td>https://www.artsy.net/</td>\n",
       "      <td>jobs</td>\n",
       "      <td>www.artsy.net</td>\n",
       "      <td>artsy</td>\n",
       "    </tr>\n",
       "    <tr>\n",
       "      <th>99999</th>\n",
       "      <td>5ab821d1-712a-4aec-a453-f20288648dc7</td>\n",
       "      <td>False</td>\n",
       "      <td>2017-03-15 15:11:50.990</td>\n",
       "      <td>/artwork/enrico-donati-le-crepuscole-et-la-cite</td>\n",
       "      <td>https://www.artsy.net/artist/enrico-donati</td>\n",
       "      <td>artwork</td>\n",
       "      <td>www.artsy.net</td>\n",
       "      <td>artsy</td>\n",
       "    </tr>\n",
       "  </tbody>\n",
       "</table>\n",
       "<p>95606 rows × 8 columns</p>\n",
       "</div>"
      ],
      "text/plain": [
       "                               anonymous_id  logged_in  \\\n",
       "0      ad31b961-d67f-497c-9def-9193d518863a      False   \n",
       "1      dd14cc5c-f31a-4591-974d-1233346b1999      False   \n",
       "2      9b459a76-aaa3-44cd-9f0e-af7fb9829b2c      False   \n",
       "3      cb745df7-c90d-4339-9519-960081515b8c      False   \n",
       "4      8b18968d-4e51-4e00-b60c-d80b1ad6a55c      False   \n",
       "...                                     ...        ...   \n",
       "99995  d3916f78-16ec-4614-af92-8a29640566ce       True   \n",
       "99996  fc6a5da2-0cc0-42f2-9040-74498c50f569      False   \n",
       "99997  66948dd7-836b-4770-9ca4-719096c621ee       True   \n",
       "99998  cca44d19-d759-493a-a59e-0ef13ac4f129      False   \n",
       "99999  5ab821d1-712a-4aec-a453-f20288648dc7      False   \n",
       "\n",
       "                  received_at  \\\n",
       "0     2017-03-12 18:23:28.241   \n",
       "1     2017-03-20 20:36:32.177   \n",
       "2     2017-03-14 05:19:47.852   \n",
       "3     2017-03-14 02:50:29.697   \n",
       "4     2017-03-15 09:07:07.436   \n",
       "...                       ...   \n",
       "99995 2017-03-12 15:50:04.295   \n",
       "99996 2017-03-23 11:11:23.208   \n",
       "99997 2017-03-13 11:27:32.482   \n",
       "99998 2017-03-21 10:33:02.154   \n",
       "99999 2017-03-15 15:11:50.990   \n",
       "\n",
       "                                                    path  \\\n",
       "0                                   /artist/anish-kapoor   \n",
       "1                    /artwork/vernon-fisher-happy-family   \n",
       "2      /article/francesca-gavin-10-new-artists-to-wat...   \n",
       "3      /article/artsy-editorial-8-female-surrealists-...   \n",
       "4      /article/artsy-editorial-why-these-7-artists-q...   \n",
       "...                                                  ...   \n",
       "99995                                           homepage   \n",
       "99996                   /artists/artists-starting-with-s   \n",
       "99997  /artwork/jean-baptiste-bernadet-untitled-vetiv...   \n",
       "99998                                              /jobs   \n",
       "99999    /artwork/enrico-donati-le-crepuscole-et-la-cite   \n",
       "\n",
       "                                                referrer page_type  \\\n",
       "0                                  http://m.facebook.com    artist   \n",
       "1                                                 others   artwork   \n",
       "2                                 https://www.google.ge/   article   \n",
       "3      https://l.facebook.com/l.php?u=https%3A%2F%2Fw...   article   \n",
       "4                              https://www.facebook.com/   article   \n",
       "...                                                  ...       ...   \n",
       "99995                                             others  homepage   \n",
       "99996  https://www.artsy.net/artists/artists-starting...   artists   \n",
       "99997  https://www.artsy.net/artist/jean-baptiste-ber...   artwork   \n",
       "99998                             https://www.artsy.net/      jobs   \n",
       "99999         https://www.artsy.net/artist/enrico-donati   artwork   \n",
       "\n",
       "      referrer_page_type referrer_page_type_group  \n",
       "0         m.facebook.com                 facebook  \n",
       "1                 others                   others  \n",
       "2          www.google.ge                   google  \n",
       "3         l.facebook.com                 facebook  \n",
       "4       www.facebook.com                 facebook  \n",
       "...                  ...                      ...  \n",
       "99995             others                   others  \n",
       "99996      www.artsy.net                    artsy  \n",
       "99997      www.artsy.net                    artsy  \n",
       "99998      www.artsy.net                    artsy  \n",
       "99999      www.artsy.net                    artsy  \n",
       "\n",
       "[95606 rows x 8 columns]"
      ]
     },
     "execution_count": 332,
     "metadata": {},
     "output_type": "execute_result"
    }
   ],
   "source": [
    "searchfor=['facebook', 'google', 'artsy', 'others']\n",
    "v_relevant_referrer = v[v.referrer_page_type.str.contains('|'.join(searchfor))]\n",
    "v_relevant_referrer['referrer_page_type_group'] = v_relevant_referrer.referrer_page_type.map(lambda t: 'facebook' if 'facebook' in t else ('google' if 'google' in t else ('artsy' if 'artsy' in t else 'others')))\n",
    "v_relevant_referrer"
   ]
  },
  {
   "cell_type": "code",
   "execution_count": 333,
   "metadata": {
    "ExecuteTime": {
     "end_time": "2020-09-07T07:59:39.864404Z",
     "start_time": "2020-09-07T07:59:39.823191Z"
    },
    "hidden": true
   },
   "outputs": [
    {
     "data": {
      "text/html": [
       "<div>\n",
       "<style scoped>\n",
       "    .dataframe tbody tr th:only-of-type {\n",
       "        vertical-align: middle;\n",
       "    }\n",
       "\n",
       "    .dataframe tbody tr th {\n",
       "        vertical-align: top;\n",
       "    }\n",
       "\n",
       "    .dataframe thead th {\n",
       "        text-align: right;\n",
       "    }\n",
       "</style>\n",
       "<table border=\"1\" class=\"dataframe\">\n",
       "  <thead>\n",
       "    <tr style=\"text-align: right;\">\n",
       "      <th></th>\n",
       "      <th>referrer_page_type_group</th>\n",
       "      <th>logged_in</th>\n",
       "      <th>views</th>\n",
       "      <th>share</th>\n",
       "    </tr>\n",
       "  </thead>\n",
       "  <tbody>\n",
       "    <tr>\n",
       "      <th>0</th>\n",
       "      <td>artsy</td>\n",
       "      <td>False</td>\n",
       "      <td>32803</td>\n",
       "      <td>0.423144</td>\n",
       "    </tr>\n",
       "    <tr>\n",
       "      <th>1</th>\n",
       "      <td>artsy</td>\n",
       "      <td>True</td>\n",
       "      <td>12180</td>\n",
       "      <td>0.673524</td>\n",
       "    </tr>\n",
       "    <tr>\n",
       "      <th>2</th>\n",
       "      <td>facebook</td>\n",
       "      <td>False</td>\n",
       "      <td>9780</td>\n",
       "      <td>0.126158</td>\n",
       "    </tr>\n",
       "    <tr>\n",
       "      <th>3</th>\n",
       "      <td>facebook</td>\n",
       "      <td>True</td>\n",
       "      <td>193</td>\n",
       "      <td>0.010672</td>\n",
       "    </tr>\n",
       "    <tr>\n",
       "      <th>4</th>\n",
       "      <td>google</td>\n",
       "      <td>False</td>\n",
       "      <td>19647</td>\n",
       "      <td>0.253438</td>\n",
       "    </tr>\n",
       "    <tr>\n",
       "      <th>5</th>\n",
       "      <td>google</td>\n",
       "      <td>True</td>\n",
       "      <td>1036</td>\n",
       "      <td>0.057288</td>\n",
       "    </tr>\n",
       "    <tr>\n",
       "      <th>6</th>\n",
       "      <td>others</td>\n",
       "      <td>False</td>\n",
       "      <td>15292</td>\n",
       "      <td>0.197260</td>\n",
       "    </tr>\n",
       "    <tr>\n",
       "      <th>7</th>\n",
       "      <td>others</td>\n",
       "      <td>True</td>\n",
       "      <td>4675</td>\n",
       "      <td>0.258516</td>\n",
       "    </tr>\n",
       "  </tbody>\n",
       "</table>\n",
       "</div>"
      ],
      "text/plain": [
       "  referrer_page_type_group  logged_in  views     share\n",
       "0                    artsy      False  32803  0.423144\n",
       "1                    artsy       True  12180  0.673524\n",
       "2                 facebook      False   9780  0.126158\n",
       "3                 facebook       True    193  0.010672\n",
       "4                   google      False  19647  0.253438\n",
       "5                   google       True   1036  0.057288\n",
       "6                   others      False  15292  0.197260\n",
       "7                   others       True   4675  0.258516"
      ]
     },
     "execution_count": 333,
     "metadata": {},
     "output_type": "execute_result"
    }
   ],
   "source": [
    "r_in_total = len(v_relevant_referrer[v_relevant_referrer.logged_in==1])\n",
    "r_out_total = len(v_relevant_referrer[v_relevant_referrer.logged_in==0])\n",
    "\n",
    "r_log = v_relevant_referrer[['referrer_page_type_group','logged_in']].groupby(['referrer_page_type_group','logged_in']).size().reset_index(name='views')\n",
    "r_log['share'] = r_log.apply(lambda t: t['views']/r_in_total  if t['logged_in'] else t['views']/r_out_total, axis=1)\n",
    "\n",
    "r_log"
   ]
  },
  {
   "cell_type": "code",
   "execution_count": 326,
   "metadata": {
    "ExecuteTime": {
     "end_time": "2020-09-07T07:40:37.775665Z",
     "start_time": "2020-09-07T07:40:37.762888Z"
    },
    "hidden": true
   },
   "outputs": [
    {
     "data": {
      "text/html": [
       "<div>\n",
       "<style scoped>\n",
       "    .dataframe tbody tr th:only-of-type {\n",
       "        vertical-align: middle;\n",
       "    }\n",
       "\n",
       "    .dataframe tbody tr th {\n",
       "        vertical-align: top;\n",
       "    }\n",
       "\n",
       "    .dataframe thead th {\n",
       "        text-align: right;\n",
       "    }\n",
       "</style>\n",
       "<table border=\"1\" class=\"dataframe\">\n",
       "  <thead>\n",
       "    <tr style=\"text-align: right;\">\n",
       "      <th>referrer_page_type_group</th>\n",
       "      <th>artsy</th>\n",
       "      <th>facebook</th>\n",
       "      <th>google</th>\n",
       "      <th>others</th>\n",
       "    </tr>\n",
       "    <tr>\n",
       "      <th>logged_in</th>\n",
       "      <th></th>\n",
       "      <th></th>\n",
       "      <th></th>\n",
       "      <th></th>\n",
       "    </tr>\n",
       "  </thead>\n",
       "  <tbody>\n",
       "    <tr>\n",
       "      <th>False</th>\n",
       "      <td>0.423144</td>\n",
       "      <td>0.126158</td>\n",
       "      <td>0.253438</td>\n",
       "      <td>0.197260</td>\n",
       "    </tr>\n",
       "    <tr>\n",
       "      <th>True</th>\n",
       "      <td>0.673524</td>\n",
       "      <td>0.010672</td>\n",
       "      <td>0.057288</td>\n",
       "      <td>0.258516</td>\n",
       "    </tr>\n",
       "  </tbody>\n",
       "</table>\n",
       "</div>"
      ],
      "text/plain": [
       "referrer_page_type_group     artsy  facebook    google    others\n",
       "logged_in                                                       \n",
       "False                     0.423144  0.126158  0.253438  0.197260\n",
       "True                      0.673524  0.010672  0.057288  0.258516"
      ]
     },
     "execution_count": 326,
     "metadata": {},
     "output_type": "execute_result"
    }
   ],
   "source": [
    "r_pivot_df = r_log.pivot(index='logged_in', columns='referrer_page_type_group', values='share')\n",
    "r_pivot_df = r_pivot_df.fillna(0)\n",
    "r_pivot_df"
   ]
  },
  {
   "cell_type": "code",
   "execution_count": 328,
   "metadata": {
    "ExecuteTime": {
     "end_time": "2020-09-07T07:40:54.823404Z",
     "start_time": "2020-09-07T07:40:54.640144Z"
    },
    "hidden": true
   },
   "outputs": [
    {
     "data": {
      "text/plain": [
       "<matplotlib.axes._subplots.AxesSubplot at 0x7fd73f37e150>"
      ]
     },
     "execution_count": 328,
     "metadata": {},
     "output_type": "execute_result"
    },
    {
     "data": {
      "image/png": "[encoded data removed]",
      "text/plain": [
       "<Figure size 432x288 with 1 Axes>"
      ]
     },
     "metadata": {
      "needs_background": "light"
     },
     "output_type": "display_data"
    }
   ],
   "source": [
    "r_pivot_df.plot.bar(stacked=True)"
   ]
  },
  {
   "cell_type": "markdown",
   "metadata": {},
   "source": [
    "### User Analysis"
   ]
  },
  {
   "cell_type": "markdown",
   "metadata": {},
   "source": [
    "Predicting which users will submit inquiries on our website is an important business insight. We provide a dataset of users, some have inquired (has_inquired=True) and some haven't (has_inquired=False)."
   ]
  },
  {
   "cell_type": "markdown",
   "metadata": {
    "ExecuteTime": {
     "end_time": "2020-09-06T15:31:54.979983Z",
     "start_time": "2020-09-06T15:31:54.971026Z"
    }
   },
   "source": [
    "- What observations can you make about inquirers and non-inquirers's behavior based on this dataset? "
   ]
  },
  {
   "cell_type": "markdown",
   "metadata": {
    "ExecuteTime": {
     "end_time": "2020-09-06T16:00:06.504367Z",
     "start_time": "2020-09-06T16:00:06.464171Z"
    }
   },
   "source": [
    "Distributtions"
   ]
  },
  {
   "cell_type": "code",
   "execution_count": 289,
   "metadata": {
    "ExecuteTime": {
     "end_time": "2020-09-06T16:54:33.777327Z",
     "start_time": "2020-09-06T16:54:33.604022Z"
    },
    "scrolled": true
   },
   "outputs": [
    {
     "data": {
      "text/plain": [
       "<matplotlib.axes._subplots.AxesSubplot at 0x7fd740b53810>"
      ]
     },
     "execution_count": 289,
     "metadata": {},
     "output_type": "execute_result"
    },
    {
     "data": {
      "image/png": "[encoded data removed]",
      "text/plain": [
       "<Figure size 432x288 with 1 Axes>"
      ]
     },
     "metadata": {
      "needs_background": "light"
     },
     "output_type": "display_data"
    }
   ],
   "source": [
    "## by has_an_account\n",
    "sns.kdeplot(u[u.has_inquired==1].has_an_account, shade=True)\n",
    "sns.kdeplot(u[u.has_inquired==0].has_an_account, shade=True)"
   ]
  },
  {
   "cell_type": "code",
   "execution_count": 292,
   "metadata": {
    "ExecuteTime": {
     "end_time": "2020-09-06T16:55:07.952137Z",
     "start_time": "2020-09-06T16:55:07.764716Z"
    },
    "scrolled": true
   },
   "outputs": [
    {
     "data": {
      "text/plain": [
       "<matplotlib.axes._subplots.AxesSubplot at 0x7fd740a266d0>"
      ]
     },
     "execution_count": 292,
     "metadata": {},
     "output_type": "execute_result"
    },
    {
     "data": {
      "image/png": "[encoded data removed]",
      "text/plain": [
       "<Figure size 432x288 with 1 Axes>"
      ]
     },
     "metadata": {
      "needs_background": "light"
     },
     "output_type": "display_data"
    }
   ],
   "source": [
    "## by article pageviews\n",
    "sns.kdeplot(u[u.has_inquired==1].article_pageviews, shade=True)\n",
    "sns.kdeplot(u[u.has_inquired==0].article_pageviews, shade=True)"
   ]
  },
  {
   "cell_type": "code",
   "execution_count": 293,
   "metadata": {
    "ExecuteTime": {
     "end_time": "2020-09-06T16:55:28.350463Z",
     "start_time": "2020-09-06T16:55:28.149409Z"
    }
   },
   "outputs": [
    {
     "data": {
      "text/plain": [
       "<matplotlib.axes._subplots.AxesSubplot at 0x7fd7409a35d0>"
      ]
     },
     "execution_count": 293,
     "metadata": {},
     "output_type": "execute_result"
    },
    {
     "data": {
      "image/png": "[encoded data removed]",
      "text/plain": [
       "<Figure size 432x288 with 1 Axes>"
      ]
     },
     "metadata": {
      "needs_background": "light"
     },
     "output_type": "display_data"
    }
   ],
   "source": [
    "## by artist pageviews\n",
    "sns.kdeplot(u[u.has_inquired==1].artist_pageviews, shade=True)\n",
    "sns.kdeplot(u[u.has_inquired==0].artist_pageviews, shade=True)"
   ]
  },
  {
   "cell_type": "code",
   "execution_count": 294,
   "metadata": {
    "ExecuteTime": {
     "end_time": "2020-09-06T16:55:40.129370Z",
     "start_time": "2020-09-06T16:55:39.947588Z"
    }
   },
   "outputs": [
    {
     "data": {
      "text/plain": [
       "<matplotlib.axes._subplots.AxesSubplot at 0x7fd7408c6750>"
      ]
     },
     "execution_count": 294,
     "metadata": {},
     "output_type": "execute_result"
    },
    {
     "data": {
      "image/png": "[encoded data removed]",
      "text/plain": [
       "<Figure size 432x288 with 1 Axes>"
      ]
     },
     "metadata": {
      "needs_background": "light"
     },
     "output_type": "display_data"
    }
   ],
   "source": [
    "## by artwork pageviews\n",
    "sns.kdeplot(u[u.has_inquired==1].artwork_pageviews, shade=True)\n",
    "sns.kdeplot(u[u.has_inquired==0].artwork_pageviews, shade=True)"
   ]
  },
  {
   "cell_type": "markdown",
   "metadata": {},
   "source": [
    "Correlation Matrix"
   ]
  },
  {
   "cell_type": "code",
   "execution_count": 299,
   "metadata": {
    "ExecuteTime": {
     "end_time": "2020-09-06T16:59:17.128238Z",
     "start_time": "2020-09-06T16:59:16.840809Z"
    }
   },
   "outputs": [
    {
     "data": {
      "text/plain": [
       "<matplotlib.axes._subplots.AxesSubplot at 0x7fd74064a490>"
      ]
     },
     "execution_count": 299,
     "metadata": {},
     "output_type": "execute_result"
    },
    {
     "data": {
      "image/png": "[encoded data removed]",
      "text/plain": [
       "<Figure size 720x576 with 2 Axes>"
      ]
     },
     "metadata": {
      "needs_background": "light"
     },
     "output_type": "display_data"
    }
   ],
   "source": [
    "corr = u.corr()\n",
    "mask = np.triu(np.ones_like(corr, dtype=np.bool))\n",
    "f, ax = plt.subplots(figsize=(10, 8))\n",
    "f.suptitle('Correlation matrix', fontsize=20)\n",
    "cmap = sns.diverging_palette(25, 170, as_cmap=True)\n",
    "sns.heatmap(corr, mask=mask, cmap=cmap, vmax=0.7, center=0,\n",
    "            square=True, linewidths=0.3, cbar_kws={\"shrink\": 1})"
   ]
  },
  {
   "cell_type": "markdown",
   "metadata": {
    "ExecuteTime": {
     "end_time": "2020-09-06T16:02:22.196409Z",
     "start_time": "2020-09-06T16:02:21.920758Z"
    }
   },
   "source": [
    "The probability of a uer inquiring is higher if:\n",
    "- has an account\n",
    "- saw artwork\n",
    "- saw artist\n",
    "- low number of article views"
   ]
  },
  {
   "cell_type": "markdown",
   "metadata": {
    "ExecuteTime": {
     "end_time": "2020-09-06T15:54:37.126360Z",
     "start_time": "2020-09-06T15:54:37.108969Z"
    }
   },
   "source": [
    "- Using the Users dataset, build a machine learning model to predict who will inquire. "
   ]
  },
  {
   "cell_type": "markdown",
   "metadata": {},
   "source": [
    "There are two types of supervised machine learning algorithms: Regression and Classification. In this particular case, as we want to predict if a user will inquire or not, we will look into a decision tree classification model given the dependent variable (user inquired or not) and the independent variables: if the user has an account, if he visited an article page, an artist page or an artwork page.  "
   ]
  },
  {
   "cell_type": "markdown",
   "metadata": {
    "ExecuteTime": {
     "end_time": "2020-09-06T19:53:00.014836Z",
     "start_time": "2020-09-06T19:52:59.990875Z"
    }
   },
   "source": [
    "Binary Classification (we wish to group an outcome into one of two groups)"
   ]
  },
  {
   "cell_type": "code",
   "execution_count": 340,
   "metadata": {
    "ExecuteTime": {
     "end_time": "2020-09-07T08:31:26.146510Z",
     "start_time": "2020-09-07T08:31:26.130903Z"
    }
   },
   "outputs": [
    {
     "data": {
      "text/html": [
       "<div>\n",
       "<style scoped>\n",
       "    .dataframe tbody tr th:only-of-type {\n",
       "        vertical-align: middle;\n",
       "    }\n",
       "\n",
       "    .dataframe tbody tr th {\n",
       "        vertical-align: top;\n",
       "    }\n",
       "\n",
       "    .dataframe thead th {\n",
       "        text-align: right;\n",
       "    }\n",
       "</style>\n",
       "<table border=\"1\" class=\"dataframe\">\n",
       "  <thead>\n",
       "    <tr style=\"text-align: right;\">\n",
       "      <th></th>\n",
       "      <th>visitor_id</th>\n",
       "      <th>has_inquired</th>\n",
       "      <th>has_an_account</th>\n",
       "      <th>article_pageviews</th>\n",
       "      <th>artist_pageviews</th>\n",
       "      <th>artwork_pageviews</th>\n",
       "    </tr>\n",
       "  </thead>\n",
       "  <tbody>\n",
       "    <tr>\n",
       "      <th>0</th>\n",
       "      <td>0</td>\n",
       "      <td>0</td>\n",
       "      <td>0</td>\n",
       "      <td>0.0</td>\n",
       "      <td>0.0</td>\n",
       "      <td>1.0</td>\n",
       "    </tr>\n",
       "    <tr>\n",
       "      <th>1</th>\n",
       "      <td>1</td>\n",
       "      <td>1</td>\n",
       "      <td>0</td>\n",
       "      <td>0.0</td>\n",
       "      <td>0.0</td>\n",
       "      <td>1.0</td>\n",
       "    </tr>\n",
       "    <tr>\n",
       "      <th>2</th>\n",
       "      <td>2</td>\n",
       "      <td>1</td>\n",
       "      <td>1</td>\n",
       "      <td>0.0</td>\n",
       "      <td>0.0</td>\n",
       "      <td>1.0</td>\n",
       "    </tr>\n",
       "    <tr>\n",
       "      <th>3</th>\n",
       "      <td>3</td>\n",
       "      <td>0</td>\n",
       "      <td>0</td>\n",
       "      <td>0.0</td>\n",
       "      <td>1.0</td>\n",
       "      <td>0.0</td>\n",
       "    </tr>\n",
       "    <tr>\n",
       "      <th>4</th>\n",
       "      <td>4</td>\n",
       "      <td>0</td>\n",
       "      <td>0</td>\n",
       "      <td>0.0</td>\n",
       "      <td>0.0</td>\n",
       "      <td>1.0</td>\n",
       "    </tr>\n",
       "    <tr>\n",
       "      <th>...</th>\n",
       "      <td>...</td>\n",
       "      <td>...</td>\n",
       "      <td>...</td>\n",
       "      <td>...</td>\n",
       "      <td>...</td>\n",
       "      <td>...</td>\n",
       "    </tr>\n",
       "    <tr>\n",
       "      <th>2606</th>\n",
       "      <td>2606</td>\n",
       "      <td>0</td>\n",
       "      <td>0</td>\n",
       "      <td>0.0</td>\n",
       "      <td>1.0</td>\n",
       "      <td>0.0</td>\n",
       "    </tr>\n",
       "    <tr>\n",
       "      <th>2607</th>\n",
       "      <td>2607</td>\n",
       "      <td>1</td>\n",
       "      <td>0</td>\n",
       "      <td>0.0</td>\n",
       "      <td>1.0</td>\n",
       "      <td>0.0</td>\n",
       "    </tr>\n",
       "    <tr>\n",
       "      <th>2608</th>\n",
       "      <td>2608</td>\n",
       "      <td>0</td>\n",
       "      <td>0</td>\n",
       "      <td>0.0</td>\n",
       "      <td>1.0</td>\n",
       "      <td>0.0</td>\n",
       "    </tr>\n",
       "    <tr>\n",
       "      <th>2609</th>\n",
       "      <td>2609</td>\n",
       "      <td>0</td>\n",
       "      <td>1</td>\n",
       "      <td>0.0</td>\n",
       "      <td>0.0</td>\n",
       "      <td>0.0</td>\n",
       "    </tr>\n",
       "    <tr>\n",
       "      <th>2610</th>\n",
       "      <td>2610</td>\n",
       "      <td>1</td>\n",
       "      <td>1</td>\n",
       "      <td>0.0</td>\n",
       "      <td>0.0</td>\n",
       "      <td>1.0</td>\n",
       "    </tr>\n",
       "  </tbody>\n",
       "</table>\n",
       "<p>2611 rows × 6 columns</p>\n",
       "</div>"
      ],
      "text/plain": [
       "      visitor_id  has_inquired  has_an_account  article_pageviews  \\\n",
       "0              0             0               0                0.0   \n",
       "1              1             1               0                0.0   \n",
       "2              2             1               1                0.0   \n",
       "3              3             0               0                0.0   \n",
       "4              4             0               0                0.0   \n",
       "...          ...           ...             ...                ...   \n",
       "2606        2606             0               0                0.0   \n",
       "2607        2607             1               0                0.0   \n",
       "2608        2608             0               0                0.0   \n",
       "2609        2609             0               1                0.0   \n",
       "2610        2610             1               1                0.0   \n",
       "\n",
       "      artist_pageviews  artwork_pageviews  \n",
       "0                  0.0                1.0  \n",
       "1                  0.0                1.0  \n",
       "2                  0.0                1.0  \n",
       "3                  1.0                0.0  \n",
       "4                  0.0                1.0  \n",
       "...                ...                ...  \n",
       "2606               1.0                0.0  \n",
       "2607               1.0                0.0  \n",
       "2608               1.0                0.0  \n",
       "2609               0.0                0.0  \n",
       "2610               0.0                1.0  \n",
       "\n",
       "[2611 rows x 6 columns]"
      ]
     },
     "execution_count": 340,
     "metadata": {},
     "output_type": "execute_result"
    }
   ],
   "source": [
    "u['has_inquired'] = u['has_inquired'].astype(int)\n",
    "u['has_an_account'] = u['has_an_account'].astype(int)\n",
    "u"
   ]
  },
  {
   "cell_type": "code",
   "execution_count": 348,
   "metadata": {
    "ExecuteTime": {
     "end_time": "2020-09-07T09:36:26.830931Z",
     "start_time": "2020-09-07T09:36:26.825359Z"
    }
   },
   "outputs": [],
   "source": [
    "## Define variables \n",
    "X = u[['has_an_account', 'article_pageviews', 'artist_pageviews', 'artwork_pageviews']]\n",
    "y = u[['has_inquired']]"
   ]
  },
  {
   "cell_type": "code",
   "execution_count": 349,
   "metadata": {
    "ExecuteTime": {
     "end_time": "2020-09-07T09:36:26.840657Z",
     "start_time": "2020-09-07T09:36:26.835018Z"
    }
   },
   "outputs": [],
   "source": [
    "## Create the Train and Test Dataset\n",
    "from sklearn.model_selection import train_test_split\n",
    "X_train, X_test, y_train, y_test = train_test_split(X, y, random_state=0)"
   ]
  },
  {
   "cell_type": "code",
   "execution_count": null,
   "metadata": {},
   "outputs": [],
   "source": [
    "## Scale the datasets as numerical values do not have the same scale\n",
    "from sklearn.preprocessing import MinMaxScaler\n",
    "scaler = MinMaxScaler()\n",
    "X_train = scaler.fit_transform(X_train)\n",
    "X_test = scaler.transform(X_test)"
   ]
  },
  {
   "cell_type": "code",
   "execution_count": 344,
   "metadata": {
    "ExecuteTime": {
     "end_time": "2020-09-07T08:34:21.347575Z",
     "start_time": "2020-09-07T08:34:21.341652Z"
    }
   },
   "outputs": [],
   "source": [
    "## Create my classification model\n",
    "from sklearn.tree import DecisionTreeClassifier\n",
    "clf = DecisionTreeClassifier().fit(X_train, y_train)"
   ]
  },
  {
   "cell_type": "markdown",
   "metadata": {},
   "source": [
    "- Evaluate the performance of your model."
   ]
  },
  {
   "cell_type": "code",
   "execution_count": 347,
   "metadata": {
    "ExecuteTime": {
     "end_time": "2020-09-07T08:38:21.603287Z",
     "start_time": "2020-09-07T08:38:21.596203Z"
    }
   },
   "outputs": [
    {
     "name": "stdout",
     "output_type": "stream",
     "text": [
      "Accuracy of Decision Tree classifier on training set: 0.85\n",
      "Accuracy of Decision Tree classifier on test set: 0.83\n"
     ]
    }
   ],
   "source": [
    "print('Accuracy of Decision Tree classifier on training set: {:.2f}'\n",
    "     .format(clf.score(X_train, y_train)))\n",
    "print('Accuracy of Decision Tree classifier on test set: {:.2f}'\n",
    "     .format(clf.score(X_test, y_test)))"
   ]
  },
  {
   "cell_type": "markdown",
   "metadata": {},
   "source": [
    "Compare with other models"
   ]
  },
  {
   "cell_type": "code",
   "execution_count": 355,
   "metadata": {
    "ExecuteTime": {
     "end_time": "2020-09-07T09:39:00.583772Z",
     "start_time": "2020-09-07T09:39:00.565132Z"
    }
   },
   "outputs": [
    {
     "name": "stdout",
     "output_type": "stream",
     "text": [
      "Accuracy of Logistic regression classifier on training set: 0.84\n",
      "Accuracy of Logistic regression classifier on test set: 0.83\n"
     ]
    },
    {
     "name": "stderr",
     "output_type": "stream",
     "text": [
      "/opt/conda/lib/python3.7/site-packages/sklearn/utils/validation.py:72: DataConversionWarning:\n",
      "\n",
      "A column-vector y was passed when a 1d array was expected. Please change the shape of y to (n_samples, ), for example using ravel().\n",
      "\n"
     ]
    }
   ],
   "source": [
    "## Logistic Regression\n",
    "from sklearn.linear_model import LogisticRegression\n",
    "logreg = LogisticRegression()\n",
    "logreg.fit(X_train, y_train)\n",
    "print('Accuracy of Logistic regression classifier on training set: {:.2f}'\n",
    "     .format(logreg.score(X_train, y_train)))\n",
    "print('Accuracy of Logistic regression classifier on test set: {:.2f}'\n",
    "     .format(logreg.score(X_test, y_test)))"
   ]
  },
  {
   "cell_type": "code",
   "execution_count": 356,
   "metadata": {
    "ExecuteTime": {
     "end_time": "2020-09-07T09:39:55.212340Z",
     "start_time": "2020-09-07T09:39:55.088504Z"
    }
   },
   "outputs": [
    {
     "name": "stdout",
     "output_type": "stream",
     "text": [
      "Accuracy of K-NN classifier on training set: 0.74\n",
      "Accuracy of K-NN classifier on test set: 0.72\n"
     ]
    },
    {
     "name": "stderr",
     "output_type": "stream",
     "text": [
      "/opt/conda/lib/python3.7/site-packages/ipykernel_launcher.py:4: DataConversionWarning:\n",
      "\n",
      "A column-vector y was passed when a 1d array was expected. Please change the shape of y to (n_samples, ), for example using ravel().\n",
      "\n"
     ]
    }
   ],
   "source": [
    "## K Nearest Neighbors\n",
    "from sklearn.neighbors import KNeighborsClassifier\n",
    "knn = KNeighborsClassifier()\n",
    "knn.fit(X_train, y_train)\n",
    "print('Accuracy of K-NN classifier on training set: {:.2f}'\n",
    "     .format(knn.score(X_train, y_train)))\n",
    "print('Accuracy of K-NN classifier on test set: {:.2f}'\n",
    "     .format(knn.score(X_test, y_test)))"
   ]
  },
  {
   "cell_type": "code",
   "execution_count": 357,
   "metadata": {
    "ExecuteTime": {
     "end_time": "2020-09-07T09:40:29.283633Z",
     "start_time": "2020-09-07T09:40:29.267892Z"
    }
   },
   "outputs": [
    {
     "name": "stdout",
     "output_type": "stream",
     "text": [
      "Accuracy of LDA classifier on training set: 0.84\n",
      "Accuracy of LDA classifier on test set: 0.83\n"
     ]
    },
    {
     "name": "stderr",
     "output_type": "stream",
     "text": [
      "/opt/conda/lib/python3.7/site-packages/sklearn/utils/validation.py:72: DataConversionWarning:\n",
      "\n",
      "A column-vector y was passed when a 1d array was expected. Please change the shape of y to (n_samples, ), for example using ravel().\n",
      "\n"
     ]
    }
   ],
   "source": [
    "##Linear Discriminant Analysis\n",
    "from sklearn.discriminant_analysis import LinearDiscriminantAnalysis\n",
    "lda = LinearDiscriminantAnalysis()\n",
    "lda.fit(X_train, y_train)\n",
    "print('Accuracy of LDA classifier on training set: {:.2f}'\n",
    "     .format(lda.score(X_train, y_train)))\n",
    "print('Accuracy of LDA classifier on test set: {:.2f}'\n",
    "     .format(lda.score(X_test, y_test)))"
   ]
  },
  {
   "cell_type": "code",
   "execution_count": 359,
   "metadata": {
    "ExecuteTime": {
     "end_time": "2020-09-07T09:42:23.045464Z",
     "start_time": "2020-09-07T09:42:23.024662Z"
    }
   },
   "outputs": [
    {
     "name": "stdout",
     "output_type": "stream",
     "text": [
      "Accuracy of GNB classifier on training set: 0.83\n",
      "Accuracy of GNB classifier on test set: 0.82\n"
     ]
    },
    {
     "name": "stderr",
     "output_type": "stream",
     "text": [
      "/opt/conda/lib/python3.7/site-packages/sklearn/utils/validation.py:72: DataConversionWarning:\n",
      "\n",
      "A column-vector y was passed when a 1d array was expected. Please change the shape of y to (n_samples, ), for example using ravel().\n",
      "\n"
     ]
    }
   ],
   "source": [
    "##Gaussian Naive Bayes\n",
    "from sklearn.naive_bayes import GaussianNB\n",
    "gnb = GaussianNB()\n",
    "gnb.fit(X_train, y_train)\n",
    "print('Accuracy of GNB classifier on training set: {:.2f}'\n",
    "     .format(gnb.score(X_train, y_train)))\n",
    "print('Accuracy of GNB classifier on test set: {:.2f}'\n",
    "     .format(gnb.score(X_test, y_test)))"
   ]
  },
  {
   "cell_type": "code",
   "execution_count": 360,
   "metadata": {
    "ExecuteTime": {
     "end_time": "2020-09-07T09:42:25.540724Z",
     "start_time": "2020-09-07T09:42:25.427882Z"
    }
   },
   "outputs": [
    {
     "name": "stdout",
     "output_type": "stream",
     "text": [
      "Accuracy of SVM classifier on training set: 0.84\n",
      "Accuracy of SVM classifier on test set: 0.83\n"
     ]
    },
    {
     "name": "stderr",
     "output_type": "stream",
     "text": [
      "/opt/conda/lib/python3.7/site-packages/sklearn/utils/validation.py:72: DataConversionWarning:\n",
      "\n",
      "A column-vector y was passed when a 1d array was expected. Please change the shape of y to (n_samples, ), for example using ravel().\n",
      "\n"
     ]
    }
   ],
   "source": [
    "## Support Vector Machine\n",
    "from sklearn.svm import SVC\n",
    "svm = SVC()\n",
    "svm.fit(X_train, y_train)\n",
    "print('Accuracy of SVM classifier on training set: {:.2f}'\n",
    "     .format(svm.score(X_train, y_train)))\n",
    "print('Accuracy of SVM classifier on test set: {:.2f}'\n",
    "     .format(svm.score(X_test, y_test)))"
   ]
  }
 ],
 "metadata": {
  "hide_input": false,
  "kernelspec": {
   "display_name": "Python 3",
   "language": "python",
   "name": "python3"
  },
  "language_info": {
   "codemirror_mode": {
    "name": "ipython",
    "version": 3
   },
   "file_extension": ".py",
   "mimetype": "text/x-python",
   "name": "python",
   "nbconvert_exporter": "python",
   "pygments_lexer": "ipython3",
   "version": "3.7.8"
  }
 },
 "nbformat": 4,
 "nbformat_minor": 4
}
